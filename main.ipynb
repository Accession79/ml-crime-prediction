{
 "cells": [
  {
   "cell_type": "markdown",
   "id": "ddade2f6",
   "metadata": {},
   "source": [
    "![cover](ml_image.jpg)"
   ]
  },
  {
   "cell_type": "markdown",
   "id": "02bdae08",
   "metadata": {},
   "source": [
    "# Our Model"
   ]
  },
  {
   "cell_type": "markdown",
   "id": "ad7b603b",
   "metadata": {},
   "source": [
    "> ### Importing important libraries"
   ]
  },
  {
   "cell_type": "code",
   "execution_count": 1,
   "id": "3ccd18ff",
   "metadata": {},
   "outputs": [],
   "source": [
    "import pandas as pd\n",
    "import numpy as np\n",
    "import os\n",
    "import csv\n",
    "from sklearn import linear_model\n",
    "import sklearn.metrics as metrics\n",
    "import matplotlib.pyplot as plt"
   ]
  },
  {
   "cell_type": "markdown",
   "id": "2ea14037",
   "metadata": {},
   "source": [
    "> ### Reading the main csv data file"
   ]
  },
  {
   "cell_type": "code",
   "execution_count": 2,
   "id": "fea8c084",
   "metadata": {},
   "outputs": [],
   "source": [
    "data_train = pd.read_csv(\"data.csv\")"
   ]
  },
  {
   "cell_type": "code",
   "execution_count": 3,
   "id": "ee4fba8f",
   "metadata": {
    "scrolled": false
   },
   "outputs": [
    {
     "data": {
      "text/html": [
       "<div>\n",
       "<style scoped>\n",
       "    .dataframe tbody tr th:only-of-type {\n",
       "        vertical-align: middle;\n",
       "    }\n",
       "\n",
       "    .dataframe tbody tr th {\n",
       "        vertical-align: top;\n",
       "    }\n",
       "\n",
       "    .dataframe thead th {\n",
       "        text-align: right;\n",
       "    }\n",
       "</style>\n",
       "<table border=\"1\" class=\"dataframe\">\n",
       "  <thead>\n",
       "    <tr style=\"text-align: right;\">\n",
       "      <th></th>\n",
       "      <th>YEAR</th>\n",
       "      <th>ANDAMAN AND NICOBAR</th>\n",
       "      <th>PUDUCHERRY</th>\n",
       "      <th>DAMAN AND DIU</th>\n",
       "      <th>CHANDIGARH</th>\n",
       "      <th>DELHI</th>\n",
       "      <th>J AND K</th>\n",
       "      <th>LAKSHADWEEP</th>\n",
       "    </tr>\n",
       "  </thead>\n",
       "  <tbody>\n",
       "    <tr>\n",
       "      <th>0</th>\n",
       "      <td>1990</td>\n",
       "      <td>3017</td>\n",
       "      <td>4168</td>\n",
       "      <td>206</td>\n",
       "      <td>2098</td>\n",
       "      <td>39773</td>\n",
       "      <td>15257</td>\n",
       "      <td>30</td>\n",
       "    </tr>\n",
       "    <tr>\n",
       "      <th>1</th>\n",
       "      <td>1991</td>\n",
       "      <td>2738</td>\n",
       "      <td>5060</td>\n",
       "      <td>264</td>\n",
       "      <td>2008</td>\n",
       "      <td>45165</td>\n",
       "      <td>15959</td>\n",
       "      <td>46</td>\n",
       "    </tr>\n",
       "    <tr>\n",
       "      <th>2</th>\n",
       "      <td>1992</td>\n",
       "      <td>2647</td>\n",
       "      <td>4948</td>\n",
       "      <td>231</td>\n",
       "      <td>1796</td>\n",
       "      <td>46744</td>\n",
       "      <td>15870</td>\n",
       "      <td>55</td>\n",
       "    </tr>\n",
       "    <tr>\n",
       "      <th>3</th>\n",
       "      <td>1993</td>\n",
       "      <td>2704</td>\n",
       "      <td>3794</td>\n",
       "      <td>229</td>\n",
       "      <td>2235</td>\n",
       "      <td>47466</td>\n",
       "      <td>15615</td>\n",
       "      <td>48</td>\n",
       "    </tr>\n",
       "    <tr>\n",
       "      <th>4</th>\n",
       "      <td>1994</td>\n",
       "      <td>2070</td>\n",
       "      <td>9819</td>\n",
       "      <td>226</td>\n",
       "      <td>2164</td>\n",
       "      <td>49720</td>\n",
       "      <td>16008</td>\n",
       "      <td>52</td>\n",
       "    </tr>\n",
       "    <tr>\n",
       "      <th>5</th>\n",
       "      <td>1995</td>\n",
       "      <td>2246</td>\n",
       "      <td>4776</td>\n",
       "      <td>289</td>\n",
       "      <td>2092</td>\n",
       "      <td>60638</td>\n",
       "      <td>16996</td>\n",
       "      <td>31</td>\n",
       "    </tr>\n",
       "    <tr>\n",
       "      <th>6</th>\n",
       "      <td>1997</td>\n",
       "      <td>2938</td>\n",
       "      <td>5664</td>\n",
       "      <td>273</td>\n",
       "      <td>2364</td>\n",
       "      <td>67036</td>\n",
       "      <td>19712</td>\n",
       "      <td>26</td>\n",
       "    </tr>\n",
       "    <tr>\n",
       "      <th>7</th>\n",
       "      <td>1998</td>\n",
       "      <td>3058</td>\n",
       "      <td>5401</td>\n",
       "      <td>348</td>\n",
       "      <td>1967</td>\n",
       "      <td>75646</td>\n",
       "      <td>21072</td>\n",
       "      <td>59</td>\n",
       "    </tr>\n",
       "    <tr>\n",
       "      <th>8</th>\n",
       "      <td>1999</td>\n",
       "      <td>3409</td>\n",
       "      <td>5811</td>\n",
       "      <td>252</td>\n",
       "      <td>3241</td>\n",
       "      <td>68883</td>\n",
       "      <td>18889</td>\n",
       "      <td>31</td>\n",
       "    </tr>\n",
       "    <tr>\n",
       "      <th>9</th>\n",
       "      <td>2000</td>\n",
       "      <td>3659</td>\n",
       "      <td>4160</td>\n",
       "      <td>225</td>\n",
       "      <td>3709</td>\n",
       "      <td>68075</td>\n",
       "      <td>20792</td>\n",
       "      <td>30</td>\n",
       "    </tr>\n",
       "    <tr>\n",
       "      <th>10</th>\n",
       "      <td>2001</td>\n",
       "      <td>4236</td>\n",
       "      <td>5201</td>\n",
       "      <td>253</td>\n",
       "      <td>4175</td>\n",
       "      <td>68133</td>\n",
       "      <td>22502</td>\n",
       "      <td>46</td>\n",
       "    </tr>\n",
       "    <tr>\n",
       "      <th>11</th>\n",
       "      <td>2002</td>\n",
       "      <td>4924</td>\n",
       "      <td>5441</td>\n",
       "      <td>270</td>\n",
       "      <td>4546</td>\n",
       "      <td>67409</td>\n",
       "      <td>22841</td>\n",
       "      <td>57</td>\n",
       "    </tr>\n",
       "    <tr>\n",
       "      <th>12</th>\n",
       "      <td>2003</td>\n",
       "      <td>6647</td>\n",
       "      <td>5777</td>\n",
       "      <td>271</td>\n",
       "      <td>3931</td>\n",
       "      <td>69314</td>\n",
       "      <td>24235</td>\n",
       "      <td>32</td>\n",
       "    </tr>\n",
       "    <tr>\n",
       "      <th>13</th>\n",
       "      <td>2004</td>\n",
       "      <td>7776</td>\n",
       "      <td>5990</td>\n",
       "      <td>208</td>\n",
       "      <td>3919</td>\n",
       "      <td>78759</td>\n",
       "      <td>23829</td>\n",
       "      <td>75</td>\n",
       "    </tr>\n",
       "    <tr>\n",
       "      <th>14</th>\n",
       "      <td>2005</td>\n",
       "      <td>7796</td>\n",
       "      <td>5794</td>\n",
       "      <td>248</td>\n",
       "      <td>3936</td>\n",
       "      <td>82638</td>\n",
       "      <td>22850</td>\n",
       "      <td>49</td>\n",
       "    </tr>\n",
       "    <tr>\n",
       "      <th>15</th>\n",
       "      <td>2006</td>\n",
       "      <td>7202</td>\n",
       "      <td>5684</td>\n",
       "      <td>291</td>\n",
       "      <td>4043</td>\n",
       "      <td>88335</td>\n",
       "      <td>23603</td>\n",
       "      <td>93</td>\n",
       "    </tr>\n",
       "    <tr>\n",
       "      <th>16</th>\n",
       "      <td>2007</td>\n",
       "      <td>6111</td>\n",
       "      <td>6232</td>\n",
       "      <td>273</td>\n",
       "      <td>4496</td>\n",
       "      <td>77059</td>\n",
       "      <td>23825</td>\n",
       "      <td>66</td>\n",
       "    </tr>\n",
       "    <tr>\n",
       "      <th>17</th>\n",
       "      <td>2008</td>\n",
       "      <td>5782</td>\n",
       "      <td>6093</td>\n",
       "      <td>260</td>\n",
       "      <td>4536</td>\n",
       "      <td>56104</td>\n",
       "      <td>22549</td>\n",
       "      <td>102</td>\n",
       "    </tr>\n",
       "    <tr>\n",
       "      <th>18</th>\n",
       "      <td>2009</td>\n",
       "      <td>6118</td>\n",
       "      <td>5823</td>\n",
       "      <td>286</td>\n",
       "      <td>4111</td>\n",
       "      <td>54304</td>\n",
       "      <td>24008</td>\n",
       "      <td>141</td>\n",
       "    </tr>\n",
       "    <tr>\n",
       "      <th>19</th>\n",
       "      <td>2010</td>\n",
       "      <td>5410</td>\n",
       "      <td>5016</td>\n",
       "      <td>213</td>\n",
       "      <td>3890</td>\n",
       "      <td>55959</td>\n",
       "      <td>25272</td>\n",
       "      <td>59</td>\n",
       "    </tr>\n",
       "    <tr>\n",
       "      <th>20</th>\n",
       "      <td>2011</td>\n",
       "      <td>4565</td>\n",
       "      <td>5766</td>\n",
       "      <td>235</td>\n",
       "      <td>4229</td>\n",
       "      <td>59249</td>\n",
       "      <td>18875</td>\n",
       "      <td>55</td>\n",
       "    </tr>\n",
       "    <tr>\n",
       "      <th>21</th>\n",
       "      <td>2012</td>\n",
       "      <td>2869</td>\n",
       "      <td>5478</td>\n",
       "      <td>252</td>\n",
       "      <td>5073</td>\n",
       "      <td>60367</td>\n",
       "      <td>15937</td>\n",
       "      <td>90</td>\n",
       "    </tr>\n",
       "    <tr>\n",
       "      <th>22</th>\n",
       "      <td>2013</td>\n",
       "      <td>2658</td>\n",
       "      <td>4509</td>\n",
       "      <td>267</td>\n",
       "      <td>5432</td>\n",
       "      <td>86800</td>\n",
       "      <td>26907</td>\n",
       "      <td>62</td>\n",
       "    </tr>\n",
       "    <tr>\n",
       "      <th>23</th>\n",
       "      <td>2014</td>\n",
       "      <td>2868</td>\n",
       "      <td>4582</td>\n",
       "      <td>252</td>\n",
       "      <td>4678</td>\n",
       "      <td>165562</td>\n",
       "      <td>17122</td>\n",
       "      <td>115</td>\n",
       "    </tr>\n",
       "    <tr>\n",
       "      <th>24</th>\n",
       "      <td>2015</td>\n",
       "      <td>3059</td>\n",
       "      <td>4109</td>\n",
       "      <td>319</td>\n",
       "      <td>5113</td>\n",
       "      <td>191377</td>\n",
       "      <td>23583</td>\n",
       "      <td>50</td>\n",
       "    </tr>\n",
       "  </tbody>\n",
       "</table>\n",
       "</div>"
      ],
      "text/plain": [
       "    YEAR  ANDAMAN AND NICOBAR  PUDUCHERRY  DAMAN AND DIU  CHANDIGARH   DELHI  \\\n",
       "0   1990                 3017        4168            206        2098   39773   \n",
       "1   1991                 2738        5060            264        2008   45165   \n",
       "2   1992                 2647        4948            231        1796   46744   \n",
       "3   1993                 2704        3794            229        2235   47466   \n",
       "4   1994                 2070        9819            226        2164   49720   \n",
       "5   1995                 2246        4776            289        2092   60638   \n",
       "6   1997                 2938        5664            273        2364   67036   \n",
       "7   1998                 3058        5401            348        1967   75646   \n",
       "8   1999                 3409        5811            252        3241   68883   \n",
       "9   2000                 3659        4160            225        3709   68075   \n",
       "10  2001                 4236        5201            253        4175   68133   \n",
       "11  2002                 4924        5441            270        4546   67409   \n",
       "12  2003                 6647        5777            271        3931   69314   \n",
       "13  2004                 7776        5990            208        3919   78759   \n",
       "14  2005                 7796        5794            248        3936   82638   \n",
       "15  2006                 7202        5684            291        4043   88335   \n",
       "16  2007                 6111        6232            273        4496   77059   \n",
       "17  2008                 5782        6093            260        4536   56104   \n",
       "18  2009                 6118        5823            286        4111   54304   \n",
       "19  2010                 5410        5016            213        3890   55959   \n",
       "20  2011                 4565        5766            235        4229   59249   \n",
       "21  2012                 2869        5478            252        5073   60367   \n",
       "22  2013                 2658        4509            267        5432   86800   \n",
       "23  2014                 2868        4582            252        4678  165562   \n",
       "24  2015                 3059        4109            319        5113  191377   \n",
       "\n",
       "    J AND K  LAKSHADWEEP  \n",
       "0     15257           30  \n",
       "1     15959           46  \n",
       "2     15870           55  \n",
       "3     15615           48  \n",
       "4     16008           52  \n",
       "5     16996           31  \n",
       "6     19712           26  \n",
       "7     21072           59  \n",
       "8     18889           31  \n",
       "9     20792           30  \n",
       "10    22502           46  \n",
       "11    22841           57  \n",
       "12    24235           32  \n",
       "13    23829           75  \n",
       "14    22850           49  \n",
       "15    23603           93  \n",
       "16    23825           66  \n",
       "17    22549          102  \n",
       "18    24008          141  \n",
       "19    25272           59  \n",
       "20    18875           55  \n",
       "21    15937           90  \n",
       "22    26907           62  \n",
       "23    17122          115  \n",
       "24    23583           50  "
      ]
     },
     "execution_count": 3,
     "metadata": {},
     "output_type": "execute_result"
    }
   ],
   "source": [
    "data_train"
   ]
  },
  {
   "cell_type": "code",
   "execution_count": 4,
   "id": "a5699d32",
   "metadata": {
    "scrolled": true
   },
   "outputs": [
    {
     "data": {
      "image/png": "[encoded data removed]",
      "text/plain": [
       "<Figure size 432x288 with 1 Axes>"
      ]
     },
     "metadata": {
      "needs_background": "light"
     },
     "output_type": "display_data"
    }
   ],
   "source": [
    "%matplotlib inline\n",
    "\n",
    "data_train.set_index('YEAR').plot();\n",
    "#data_train.plot(x=[\"YEAR\", \"ANDAMAN AND NICOBAR\", \"PUDUCHERRY\", \"DAMAN AND DIU\", \"CHANDIGARH\", \"DELHI\", \"J AND K\", \"LAKSHADWEEP\"] y=[\"CRIME\"], kind=\"bar\")"
   ]
  },
  {
   "cell_type": "markdown",
   "id": "80f44ace",
   "metadata": {},
   "source": [
    "> ### Reading the actual csv data file for the year 2016-2019"
   ]
  },
  {
   "cell_type": "code",
   "execution_count": 5,
   "id": "f9171d69",
   "metadata": {},
   "outputs": [],
   "source": [
    "data_actual = pd.read_csv(\"actual.csv\")"
   ]
  },
  {
   "cell_type": "code",
   "execution_count": 6,
   "id": "cfab84ff",
   "metadata": {},
   "outputs": [
    {
     "data": {
      "text/html": [
       "<div>\n",
       "<style scoped>\n",
       "    .dataframe tbody tr th:only-of-type {\n",
       "        vertical-align: middle;\n",
       "    }\n",
       "\n",
       "    .dataframe tbody tr th {\n",
       "        vertical-align: top;\n",
       "    }\n",
       "\n",
       "    .dataframe thead th {\n",
       "        text-align: right;\n",
       "    }\n",
       "</style>\n",
       "<table border=\"1\" class=\"dataframe\">\n",
       "  <thead>\n",
       "    <tr style=\"text-align: right;\">\n",
       "      <th></th>\n",
       "      <th>YEAR</th>\n",
       "      <th>ANDAMAN AND NICOBAR</th>\n",
       "      <th>PUDUCHERRY</th>\n",
       "      <th>DAMAN AND DIU</th>\n",
       "      <th>CHANDIGARH</th>\n",
       "      <th>DELHI</th>\n",
       "      <th>J AND K</th>\n",
       "      <th>LAKSHADWEEP</th>\n",
       "    </tr>\n",
       "  </thead>\n",
       "  <tbody>\n",
       "    <tr>\n",
       "      <th>0</th>\n",
       "      <td>2016</td>\n",
       "      <td>2491</td>\n",
       "      <td>4885</td>\n",
       "      <td>287</td>\n",
       "      <td>4256</td>\n",
       "      <td>216920</td>\n",
       "      <td>26624</td>\n",
       "      <td>50</td>\n",
       "    </tr>\n",
       "    <tr>\n",
       "      <th>1</th>\n",
       "      <td>2017</td>\n",
       "      <td>3014</td>\n",
       "      <td>4799</td>\n",
       "      <td>382</td>\n",
       "      <td>5462</td>\n",
       "      <td>244714</td>\n",
       "      <td>25608</td>\n",
       "      <td>114</td>\n",
       "    </tr>\n",
       "    <tr>\n",
       "      <th>2</th>\n",
       "      <td>2018</td>\n",
       "      <td>2699</td>\n",
       "      <td>4674</td>\n",
       "      <td>334</td>\n",
       "      <td>5967</td>\n",
       "      <td>262612</td>\n",
       "      <td>27276</td>\n",
       "      <td>77</td>\n",
       "    </tr>\n",
       "    <tr>\n",
       "      <th>3</th>\n",
       "      <td>2019</td>\n",
       "      <td>4034</td>\n",
       "      <td>4004</td>\n",
       "      <td>370</td>\n",
       "      <td>4518</td>\n",
       "      <td>316261</td>\n",
       "      <td>25408</td>\n",
       "      <td>182</td>\n",
       "    </tr>\n",
       "  </tbody>\n",
       "</table>\n",
       "</div>"
      ],
      "text/plain": [
       "   YEAR  ANDAMAN AND NICOBAR  PUDUCHERRY  DAMAN AND DIU  CHANDIGARH   DELHI  \\\n",
       "0  2016                 2491        4885            287        4256  216920   \n",
       "1  2017                 3014        4799            382        5462  244714   \n",
       "2  2018                 2699        4674            334        5967  262612   \n",
       "3  2019                 4034        4004            370        4518  316261   \n",
       "\n",
       "   J AND K  LAKSHADWEEP  \n",
       "0    26624           50  \n",
       "1    25608          114  \n",
       "2    27276           77  \n",
       "3    25408          182  "
      ]
     },
     "execution_count": 6,
     "metadata": {},
     "output_type": "execute_result"
    }
   ],
   "source": [
    "data_actual"
   ]
  },
  {
   "cell_type": "markdown",
   "id": "bd9eb834",
   "metadata": {},
   "source": [
    "> ## 1. ANDAMAN AND NICOBAR"
   ]
  },
  {
   "cell_type": "code",
   "execution_count": 7,
   "id": "ada306d0",
   "metadata": {},
   "outputs": [],
   "source": [
    "# ANDAMAN AND NICOBAR"
   ]
  },
  {
   "cell_type": "code",
   "execution_count": 8,
   "id": "4b168653",
   "metadata": {},
   "outputs": [
    {
     "data": {
      "text/plain": [
       "LinearRegression()"
      ]
     },
     "execution_count": 8,
     "metadata": {},
     "output_type": "execute_result"
    }
   ],
   "source": [
    "reg = linear_model.LinearRegression()\n",
    "reg.fit(data_train[['YEAR']], data_train[['ANDAMAN AND NICOBAR']])"
   ]
  },
  {
   "cell_type": "code",
   "execution_count": 9,
   "id": "1881ecbb",
   "metadata": {},
   "outputs": [
    {
     "data": {
      "text/html": [
       "<div>\n",
       "<style scoped>\n",
       "    .dataframe tbody tr th:only-of-type {\n",
       "        vertical-align: middle;\n",
       "    }\n",
       "\n",
       "    .dataframe tbody tr th {\n",
       "        vertical-align: top;\n",
       "    }\n",
       "\n",
       "    .dataframe thead th {\n",
       "        text-align: right;\n",
       "    }\n",
       "</style>\n",
       "<table border=\"1\" class=\"dataframe\">\n",
       "  <thead>\n",
       "    <tr style=\"text-align: right;\">\n",
       "      <th></th>\n",
       "      <th>YEAR</th>\n",
       "    </tr>\n",
       "  </thead>\n",
       "  <tbody>\n",
       "    <tr>\n",
       "      <th>0</th>\n",
       "      <td>2016</td>\n",
       "    </tr>\n",
       "    <tr>\n",
       "      <th>1</th>\n",
       "      <td>2017</td>\n",
       "    </tr>\n",
       "    <tr>\n",
       "      <th>2</th>\n",
       "      <td>2018</td>\n",
       "    </tr>\n",
       "    <tr>\n",
       "      <th>3</th>\n",
       "      <td>2019</td>\n",
       "    </tr>\n",
       "    <tr>\n",
       "      <th>4</th>\n",
       "      <td>2020</td>\n",
       "    </tr>\n",
       "    <tr>\n",
       "      <th>5</th>\n",
       "      <td>2021</td>\n",
       "    </tr>\n",
       "    <tr>\n",
       "      <th>6</th>\n",
       "      <td>2022</td>\n",
       "    </tr>\n",
       "    <tr>\n",
       "      <th>7</th>\n",
       "      <td>2023</td>\n",
       "    </tr>\n",
       "    <tr>\n",
       "      <th>8</th>\n",
       "      <td>2024</td>\n",
       "    </tr>\n",
       "    <tr>\n",
       "      <th>9</th>\n",
       "      <td>2025</td>\n",
       "    </tr>\n",
       "    <tr>\n",
       "      <th>10</th>\n",
       "      <td>2026</td>\n",
       "    </tr>\n",
       "    <tr>\n",
       "      <th>11</th>\n",
       "      <td>2027</td>\n",
       "    </tr>\n",
       "    <tr>\n",
       "      <th>12</th>\n",
       "      <td>2028</td>\n",
       "    </tr>\n",
       "    <tr>\n",
       "      <th>13</th>\n",
       "      <td>2029</td>\n",
       "    </tr>\n",
       "    <tr>\n",
       "      <th>14</th>\n",
       "      <td>2030</td>\n",
       "    </tr>\n",
       "  </tbody>\n",
       "</table>\n",
       "</div>"
      ],
      "text/plain": [
       "    YEAR\n",
       "0   2016\n",
       "1   2017\n",
       "2   2018\n",
       "3   2019\n",
       "4   2020\n",
       "5   2021\n",
       "6   2022\n",
       "7   2023\n",
       "8   2024\n",
       "9   2025\n",
       "10  2026\n",
       "11  2027\n",
       "12  2028\n",
       "13  2029\n",
       "14  2030"
      ]
     },
     "execution_count": 9,
     "metadata": {},
     "output_type": "execute_result"
    }
   ],
   "source": [
    "data_test = pd.read_csv(\"predict.csv\")\n",
    "data_test"
   ]
  },
  {
   "cell_type": "code",
   "execution_count": 10,
   "id": "8dcface0",
   "metadata": {},
   "outputs": [
    {
     "data": {
      "text/plain": [
       "<matplotlib.collections.PathCollection at 0x1eeefbc9280>"
      ]
     },
     "execution_count": 10,
     "metadata": {},
     "output_type": "execute_result"
    },
    {
     "data": {
      "image/png": "[encoded data removed]",
      "text/plain": [
       "<Figure size 432x288 with 1 Axes>"
      ]
     },
     "metadata": {
      "needs_background": "light"
     },
     "output_type": "display_data"
    }
   ],
   "source": [
    "%matplotlib inline\n",
    "plt.xlabel('Year')\n",
    "plt.ylabel('Number of cases in Lakh')\n",
    "plt.scatter(data_train[['YEAR']], data_train[['ANDAMAN AND NICOBAR']], color = 'red', marker = 'x')"
   ]
  },
  {
   "cell_type": "code",
   "execution_count": 11,
   "id": "3b221ff7",
   "metadata": {},
   "outputs": [
    {
     "data": {
      "text/plain": [
       "array([[5379.22202797],\n",
       "       [5463.73426573],\n",
       "       [5548.2465035 ],\n",
       "       [5632.75874126],\n",
       "       [5717.27097902],\n",
       "       [5801.78321678],\n",
       "       [5886.29545455],\n",
       "       [5970.80769231],\n",
       "       [6055.31993007],\n",
       "       [6139.83216783],\n",
       "       [6224.34440559],\n",
       "       [6308.85664336],\n",
       "       [6393.36888112],\n",
       "       [6477.88111888],\n",
       "       [6562.39335664]])"
      ]
     },
     "execution_count": 11,
     "metadata": {},
     "output_type": "execute_result"
    }
   ],
   "source": [
    "y = reg.predict(data_test)\n",
    "y"
   ]
  },
  {
   "cell_type": "code",
   "execution_count": 12,
   "id": "f2449428",
   "metadata": {},
   "outputs": [],
   "source": [
    "data_test['ANDAMAN AND NICOBAR'] = y"
   ]
  },
  {
   "cell_type": "code",
   "execution_count": 13,
   "id": "8921f1c7",
   "metadata": {},
   "outputs": [
    {
     "data": {
      "text/html": [
       "<div>\n",
       "<style scoped>\n",
       "    .dataframe tbody tr th:only-of-type {\n",
       "        vertical-align: middle;\n",
       "    }\n",
       "\n",
       "    .dataframe tbody tr th {\n",
       "        vertical-align: top;\n",
       "    }\n",
       "\n",
       "    .dataframe thead th {\n",
       "        text-align: right;\n",
       "    }\n",
       "</style>\n",
       "<table border=\"1\" class=\"dataframe\">\n",
       "  <thead>\n",
       "    <tr style=\"text-align: right;\">\n",
       "      <th></th>\n",
       "      <th>YEAR</th>\n",
       "      <th>ANDAMAN AND NICOBAR</th>\n",
       "    </tr>\n",
       "  </thead>\n",
       "  <tbody>\n",
       "    <tr>\n",
       "      <th>0</th>\n",
       "      <td>2016</td>\n",
       "      <td>5379.222028</td>\n",
       "    </tr>\n",
       "    <tr>\n",
       "      <th>1</th>\n",
       "      <td>2017</td>\n",
       "      <td>5463.734266</td>\n",
       "    </tr>\n",
       "    <tr>\n",
       "      <th>2</th>\n",
       "      <td>2018</td>\n",
       "      <td>5548.246503</td>\n",
       "    </tr>\n",
       "    <tr>\n",
       "      <th>3</th>\n",
       "      <td>2019</td>\n",
       "      <td>5632.758741</td>\n",
       "    </tr>\n",
       "    <tr>\n",
       "      <th>4</th>\n",
       "      <td>2020</td>\n",
       "      <td>5717.270979</td>\n",
       "    </tr>\n",
       "    <tr>\n",
       "      <th>5</th>\n",
       "      <td>2021</td>\n",
       "      <td>5801.783217</td>\n",
       "    </tr>\n",
       "    <tr>\n",
       "      <th>6</th>\n",
       "      <td>2022</td>\n",
       "      <td>5886.295455</td>\n",
       "    </tr>\n",
       "    <tr>\n",
       "      <th>7</th>\n",
       "      <td>2023</td>\n",
       "      <td>5970.807692</td>\n",
       "    </tr>\n",
       "    <tr>\n",
       "      <th>8</th>\n",
       "      <td>2024</td>\n",
       "      <td>6055.319930</td>\n",
       "    </tr>\n",
       "    <tr>\n",
       "      <th>9</th>\n",
       "      <td>2025</td>\n",
       "      <td>6139.832168</td>\n",
       "    </tr>\n",
       "    <tr>\n",
       "      <th>10</th>\n",
       "      <td>2026</td>\n",
       "      <td>6224.344406</td>\n",
       "    </tr>\n",
       "    <tr>\n",
       "      <th>11</th>\n",
       "      <td>2027</td>\n",
       "      <td>6308.856643</td>\n",
       "    </tr>\n",
       "    <tr>\n",
       "      <th>12</th>\n",
       "      <td>2028</td>\n",
       "      <td>6393.368881</td>\n",
       "    </tr>\n",
       "    <tr>\n",
       "      <th>13</th>\n",
       "      <td>2029</td>\n",
       "      <td>6477.881119</td>\n",
       "    </tr>\n",
       "    <tr>\n",
       "      <th>14</th>\n",
       "      <td>2030</td>\n",
       "      <td>6562.393357</td>\n",
       "    </tr>\n",
       "  </tbody>\n",
       "</table>\n",
       "</div>"
      ],
      "text/plain": [
       "    YEAR  ANDAMAN AND NICOBAR\n",
       "0   2016          5379.222028\n",
       "1   2017          5463.734266\n",
       "2   2018          5548.246503\n",
       "3   2019          5632.758741\n",
       "4   2020          5717.270979\n",
       "5   2021          5801.783217\n",
       "6   2022          5886.295455\n",
       "7   2023          5970.807692\n",
       "8   2024          6055.319930\n",
       "9   2025          6139.832168\n",
       "10  2026          6224.344406\n",
       "11  2027          6308.856643\n",
       "12  2028          6393.368881\n",
       "13  2029          6477.881119\n",
       "14  2030          6562.393357"
      ]
     },
     "execution_count": 13,
     "metadata": {},
     "output_type": "execute_result"
    }
   ],
   "source": [
    "data_test.to_csv(\"predicted/andaman.csv\", index = False)\n",
    "data_test"
   ]
  },
  {
   "cell_type": "code",
   "execution_count": 14,
   "id": "6d3dbb49",
   "metadata": {
    "scrolled": true
   },
   "outputs": [
    {
     "data": {
      "text/plain": [
       "[<matplotlib.lines.Line2D at 0x1eeefc46820>]"
      ]
     },
     "execution_count": 14,
     "metadata": {},
     "output_type": "execute_result"
    },
    {
     "data": {
      "image/png": "[encoded data removed]",
      "text/plain": [
       "<Figure size 432x288 with 1 Axes>"
      ]
     },
     "metadata": {
      "needs_background": "light"
     },
     "output_type": "display_data"
    }
   ],
   "source": [
    "%matplotlib inline\n",
    "plt.xlabel('Year')\n",
    "plt.ylabel('Number of cases in Lakh')\n",
    "plt.scatter(data_train[['YEAR']], data_train[['ANDAMAN AND NICOBAR']], color = 'red', marker = 'x')\n",
    "plt.plot(data_train[['YEAR']], reg.predict(data_train[['YEAR']]), color = 'blue')"
   ]
  },
  {
   "cell_type": "code",
   "execution_count": 15,
   "id": "3d484d97",
   "metadata": {},
   "outputs": [
    {
     "data": {
      "text/html": [
       "<div>\n",
       "<style scoped>\n",
       "    .dataframe tbody tr th:only-of-type {\n",
       "        vertical-align: middle;\n",
       "    }\n",
       "\n",
       "    .dataframe tbody tr th {\n",
       "        vertical-align: top;\n",
       "    }\n",
       "\n",
       "    .dataframe thead th {\n",
       "        text-align: right;\n",
       "    }\n",
       "</style>\n",
       "<table border=\"1\" class=\"dataframe\">\n",
       "  <thead>\n",
       "    <tr style=\"text-align: right;\">\n",
       "      <th></th>\n",
       "      <th>YEAR</th>\n",
       "      <th>ANDAMAN AND NICOBAR</th>\n",
       "    </tr>\n",
       "  </thead>\n",
       "  <tbody>\n",
       "    <tr>\n",
       "      <th>0</th>\n",
       "      <td>2016</td>\n",
       "      <td>5379.222028</td>\n",
       "    </tr>\n",
       "    <tr>\n",
       "      <th>1</th>\n",
       "      <td>2017</td>\n",
       "      <td>5463.734266</td>\n",
       "    </tr>\n",
       "    <tr>\n",
       "      <th>2</th>\n",
       "      <td>2018</td>\n",
       "      <td>5548.246503</td>\n",
       "    </tr>\n",
       "    <tr>\n",
       "      <th>3</th>\n",
       "      <td>2019</td>\n",
       "      <td>5632.758741</td>\n",
       "    </tr>\n",
       "  </tbody>\n",
       "</table>\n",
       "</div>"
      ],
      "text/plain": [
       "   YEAR  ANDAMAN AND NICOBAR\n",
       "0  2016          5379.222028\n",
       "1  2017          5463.734266\n",
       "2  2018          5548.246503\n",
       "3  2019          5632.758741"
      ]
     },
     "execution_count": 15,
     "metadata": {},
     "output_type": "execute_result"
    }
   ],
   "source": [
    "data_andaman = pd.read_csv('predicted/andaman.csv')\n",
    "data_andaman.head(4)"
   ]
  },
  {
   "cell_type": "code",
   "execution_count": 16,
   "id": "65f3f24e",
   "metadata": {},
   "outputs": [
    {
     "name": "stdout",
     "output_type": "stream",
     "text": [
      "MAE: 2446.4903846153975\n",
      "MSE: 6254314.901503498\n",
      "RMSE: 2500.862831405093\n"
     ]
    }
   ],
   "source": [
    "mae_andaman = metrics.mean_absolute_error(data_andaman.head(4)[['ANDAMAN AND NICOBAR']], data_actual[['ANDAMAN AND NICOBAR']])\n",
    "mse_andaman = metrics.mean_squared_error(data_andaman.head(4)[['ANDAMAN AND NICOBAR']], data_actual[['ANDAMAN AND NICOBAR']])\n",
    "rmse_andaman = np.sqrt(mse_andaman)\n",
    "\n",
    "print(\"MAE:\", mae_andaman)\n",
    "print(\"MSE:\", mse_andaman)\n",
    "print(\"RMSE:\", rmse_andaman)"
   ]
  },
  {
   "cell_type": "markdown",
   "id": "7e11c036",
   "metadata": {},
   "source": [
    "> ## 2. PUDUCHERRY"
   ]
  },
  {
   "cell_type": "code",
   "execution_count": 17,
   "id": "869f1eb8",
   "metadata": {},
   "outputs": [],
   "source": [
    "# PUDUCHERRY"
   ]
  },
  {
   "cell_type": "code",
   "execution_count": 18,
   "id": "02f41211",
   "metadata": {},
   "outputs": [
    {
     "data": {
      "text/plain": [
       "LinearRegression()"
      ]
     },
     "execution_count": 18,
     "metadata": {},
     "output_type": "execute_result"
    }
   ],
   "source": [
    "reg = linear_model.LinearRegression()\n",
    "reg.fit(data_train[['YEAR']], data_train[['PUDUCHERRY']])"
   ]
  },
  {
   "cell_type": "code",
   "execution_count": 19,
   "id": "467ab43d",
   "metadata": {},
   "outputs": [
    {
     "data": {
      "text/html": [
       "<div>\n",
       "<style scoped>\n",
       "    .dataframe tbody tr th:only-of-type {\n",
       "        vertical-align: middle;\n",
       "    }\n",
       "\n",
       "    .dataframe tbody tr th {\n",
       "        vertical-align: top;\n",
       "    }\n",
       "\n",
       "    .dataframe thead th {\n",
       "        text-align: right;\n",
       "    }\n",
       "</style>\n",
       "<table border=\"1\" class=\"dataframe\">\n",
       "  <thead>\n",
       "    <tr style=\"text-align: right;\">\n",
       "      <th></th>\n",
       "      <th>YEAR</th>\n",
       "    </tr>\n",
       "  </thead>\n",
       "  <tbody>\n",
       "    <tr>\n",
       "      <th>0</th>\n",
       "      <td>2016</td>\n",
       "    </tr>\n",
       "    <tr>\n",
       "      <th>1</th>\n",
       "      <td>2017</td>\n",
       "    </tr>\n",
       "    <tr>\n",
       "      <th>2</th>\n",
       "      <td>2018</td>\n",
       "    </tr>\n",
       "    <tr>\n",
       "      <th>3</th>\n",
       "      <td>2019</td>\n",
       "    </tr>\n",
       "    <tr>\n",
       "      <th>4</th>\n",
       "      <td>2020</td>\n",
       "    </tr>\n",
       "    <tr>\n",
       "      <th>5</th>\n",
       "      <td>2021</td>\n",
       "    </tr>\n",
       "    <tr>\n",
       "      <th>6</th>\n",
       "      <td>2022</td>\n",
       "    </tr>\n",
       "    <tr>\n",
       "      <th>7</th>\n",
       "      <td>2023</td>\n",
       "    </tr>\n",
       "    <tr>\n",
       "      <th>8</th>\n",
       "      <td>2024</td>\n",
       "    </tr>\n",
       "    <tr>\n",
       "      <th>9</th>\n",
       "      <td>2025</td>\n",
       "    </tr>\n",
       "    <tr>\n",
       "      <th>10</th>\n",
       "      <td>2026</td>\n",
       "    </tr>\n",
       "    <tr>\n",
       "      <th>11</th>\n",
       "      <td>2027</td>\n",
       "    </tr>\n",
       "    <tr>\n",
       "      <th>12</th>\n",
       "      <td>2028</td>\n",
       "    </tr>\n",
       "    <tr>\n",
       "      <th>13</th>\n",
       "      <td>2029</td>\n",
       "    </tr>\n",
       "    <tr>\n",
       "      <th>14</th>\n",
       "      <td>2030</td>\n",
       "    </tr>\n",
       "  </tbody>\n",
       "</table>\n",
       "</div>"
      ],
      "text/plain": [
       "    YEAR\n",
       "0   2016\n",
       "1   2017\n",
       "2   2018\n",
       "3   2019\n",
       "4   2020\n",
       "5   2021\n",
       "6   2022\n",
       "7   2023\n",
       "8   2024\n",
       "9   2025\n",
       "10  2026\n",
       "11  2027\n",
       "12  2028\n",
       "13  2029\n",
       "14  2030"
      ]
     },
     "execution_count": 19,
     "metadata": {},
     "output_type": "execute_result"
    }
   ],
   "source": [
    "data_test = pd.read_csv(\"predict.csv\")\n",
    "data_test"
   ]
  },
  {
   "cell_type": "code",
   "execution_count": 20,
   "id": "e957fe22",
   "metadata": {},
   "outputs": [
    {
     "data": {
      "text/plain": [
       "<matplotlib.collections.PathCollection at 0x1eeefc9fe50>"
      ]
     },
     "execution_count": 20,
     "metadata": {},
     "output_type": "execute_result"
    },
    {
     "data": {
      "image/png": "[encoded data removed]",
      "text/plain": [
       "<Figure size 432x288 with 1 Axes>"
      ]
     },
     "metadata": {
      "needs_background": "light"
     },
     "output_type": "display_data"
    }
   ],
   "source": [
    "%matplotlib inline\n",
    "plt.xlabel('Year')\n",
    "plt.ylabel('Number of cases in Lakh')\n",
    "plt.scatter(data_train[['YEAR']], data_train[['PUDUCHERRY']], color = 'red', marker = 'x')"
   ]
  },
  {
   "cell_type": "code",
   "execution_count": 21,
   "id": "537e5dc9",
   "metadata": {},
   "outputs": [
    {
     "data": {
      "text/plain": [
       "array([[5276.15001128],\n",
       "       [5266.50575231],\n",
       "       [5256.86149335],\n",
       "       [5247.21723438],\n",
       "       [5237.57297541],\n",
       "       [5227.92871644],\n",
       "       [5218.28445748],\n",
       "       [5208.64019851],\n",
       "       [5198.99593954],\n",
       "       [5189.35168058],\n",
       "       [5179.70742161],\n",
       "       [5170.06316264],\n",
       "       [5160.41890368],\n",
       "       [5150.77464471],\n",
       "       [5141.13038574]])"
      ]
     },
     "execution_count": 21,
     "metadata": {},
     "output_type": "execute_result"
    }
   ],
   "source": [
    "y = reg.predict(data_test)\n",
    "y"
   ]
  },
  {
   "cell_type": "code",
   "execution_count": 22,
   "id": "1ba6941d",
   "metadata": {},
   "outputs": [],
   "source": [
    "data_test['PUDUCHERRY'] = y"
   ]
  },
  {
   "cell_type": "code",
   "execution_count": 23,
   "id": "29025a19",
   "metadata": {},
   "outputs": [],
   "source": [
    "data_test.to_csv(\"predicted/puducherry.csv\", index = False)"
   ]
  },
  {
   "cell_type": "code",
   "execution_count": 24,
   "id": "ad9a37d7",
   "metadata": {},
   "outputs": [
    {
     "data": {
      "text/html": [
       "<div>\n",
       "<style scoped>\n",
       "    .dataframe tbody tr th:only-of-type {\n",
       "        vertical-align: middle;\n",
       "    }\n",
       "\n",
       "    .dataframe tbody tr th {\n",
       "        vertical-align: top;\n",
       "    }\n",
       "\n",
       "    .dataframe thead th {\n",
       "        text-align: right;\n",
       "    }\n",
       "</style>\n",
       "<table border=\"1\" class=\"dataframe\">\n",
       "  <thead>\n",
       "    <tr style=\"text-align: right;\">\n",
       "      <th></th>\n",
       "      <th>YEAR</th>\n",
       "      <th>PUDUCHERRY</th>\n",
       "    </tr>\n",
       "  </thead>\n",
       "  <tbody>\n",
       "    <tr>\n",
       "      <th>0</th>\n",
       "      <td>2016</td>\n",
       "      <td>5276.150011</td>\n",
       "    </tr>\n",
       "    <tr>\n",
       "      <th>1</th>\n",
       "      <td>2017</td>\n",
       "      <td>5266.505752</td>\n",
       "    </tr>\n",
       "    <tr>\n",
       "      <th>2</th>\n",
       "      <td>2018</td>\n",
       "      <td>5256.861493</td>\n",
       "    </tr>\n",
       "    <tr>\n",
       "      <th>3</th>\n",
       "      <td>2019</td>\n",
       "      <td>5247.217234</td>\n",
       "    </tr>\n",
       "    <tr>\n",
       "      <th>4</th>\n",
       "      <td>2020</td>\n",
       "      <td>5237.572975</td>\n",
       "    </tr>\n",
       "    <tr>\n",
       "      <th>5</th>\n",
       "      <td>2021</td>\n",
       "      <td>5227.928716</td>\n",
       "    </tr>\n",
       "    <tr>\n",
       "      <th>6</th>\n",
       "      <td>2022</td>\n",
       "      <td>5218.284457</td>\n",
       "    </tr>\n",
       "    <tr>\n",
       "      <th>7</th>\n",
       "      <td>2023</td>\n",
       "      <td>5208.640199</td>\n",
       "    </tr>\n",
       "    <tr>\n",
       "      <th>8</th>\n",
       "      <td>2024</td>\n",
       "      <td>5198.995940</td>\n",
       "    </tr>\n",
       "    <tr>\n",
       "      <th>9</th>\n",
       "      <td>2025</td>\n",
       "      <td>5189.351681</td>\n",
       "    </tr>\n",
       "    <tr>\n",
       "      <th>10</th>\n",
       "      <td>2026</td>\n",
       "      <td>5179.707422</td>\n",
       "    </tr>\n",
       "    <tr>\n",
       "      <th>11</th>\n",
       "      <td>2027</td>\n",
       "      <td>5170.063163</td>\n",
       "    </tr>\n",
       "    <tr>\n",
       "      <th>12</th>\n",
       "      <td>2028</td>\n",
       "      <td>5160.418904</td>\n",
       "    </tr>\n",
       "    <tr>\n",
       "      <th>13</th>\n",
       "      <td>2029</td>\n",
       "      <td>5150.774645</td>\n",
       "    </tr>\n",
       "    <tr>\n",
       "      <th>14</th>\n",
       "      <td>2030</td>\n",
       "      <td>5141.130386</td>\n",
       "    </tr>\n",
       "  </tbody>\n",
       "</table>\n",
       "</div>"
      ],
      "text/plain": [
       "    YEAR   PUDUCHERRY\n",
       "0   2016  5276.150011\n",
       "1   2017  5266.505752\n",
       "2   2018  5256.861493\n",
       "3   2019  5247.217234\n",
       "4   2020  5237.572975\n",
       "5   2021  5227.928716\n",
       "6   2022  5218.284457\n",
       "7   2023  5208.640199\n",
       "8   2024  5198.995940\n",
       "9   2025  5189.351681\n",
       "10  2026  5179.707422\n",
       "11  2027  5170.063163\n",
       "12  2028  5160.418904\n",
       "13  2029  5150.774645\n",
       "14  2030  5141.130386"
      ]
     },
     "execution_count": 24,
     "metadata": {},
     "output_type": "execute_result"
    }
   ],
   "source": [
    "data_test"
   ]
  },
  {
   "cell_type": "code",
   "execution_count": 25,
   "id": "07785c48",
   "metadata": {},
   "outputs": [
    {
     "data": {
      "text/plain": [
       "[<matplotlib.lines.Line2D at 0x1eeefd10c40>]"
      ]
     },
     "execution_count": 25,
     "metadata": {},
     "output_type": "execute_result"
    },
    {
     "data": {
      "image/png": "[encoded data removed]",
      "text/plain": [
       "<Figure size 432x288 with 1 Axes>"
      ]
     },
     "metadata": {
      "needs_background": "light"
     },
     "output_type": "display_data"
    }
   ],
   "source": [
    "%matplotlib inline\n",
    "plt.xlabel('Year')\n",
    "plt.ylabel('Number of cases in Lakh')\n",
    "plt.scatter(data_train[['YEAR']], data_train[['PUDUCHERRY']], color = 'red', marker = 'x')\n",
    "plt.plot(data_train[['YEAR']], reg.predict(data_train[['YEAR']]), color = 'blue')"
   ]
  },
  {
   "cell_type": "code",
   "execution_count": 26,
   "id": "5f1e870a",
   "metadata": {},
   "outputs": [
    {
     "data": {
      "text/html": [
       "<div>\n",
       "<style scoped>\n",
       "    .dataframe tbody tr th:only-of-type {\n",
       "        vertical-align: middle;\n",
       "    }\n",
       "\n",
       "    .dataframe tbody tr th {\n",
       "        vertical-align: top;\n",
       "    }\n",
       "\n",
       "    .dataframe thead th {\n",
       "        text-align: right;\n",
       "    }\n",
       "</style>\n",
       "<table border=\"1\" class=\"dataframe\">\n",
       "  <thead>\n",
       "    <tr style=\"text-align: right;\">\n",
       "      <th></th>\n",
       "      <th>YEAR</th>\n",
       "      <th>PUDUCHERRY</th>\n",
       "    </tr>\n",
       "  </thead>\n",
       "  <tbody>\n",
       "    <tr>\n",
       "      <th>0</th>\n",
       "      <td>2016</td>\n",
       "      <td>5276.150011</td>\n",
       "    </tr>\n",
       "    <tr>\n",
       "      <th>1</th>\n",
       "      <td>2017</td>\n",
       "      <td>5266.505752</td>\n",
       "    </tr>\n",
       "    <tr>\n",
       "      <th>2</th>\n",
       "      <td>2018</td>\n",
       "      <td>5256.861493</td>\n",
       "    </tr>\n",
       "    <tr>\n",
       "      <th>3</th>\n",
       "      <td>2019</td>\n",
       "      <td>5247.217234</td>\n",
       "    </tr>\n",
       "  </tbody>\n",
       "</table>\n",
       "</div>"
      ],
      "text/plain": [
       "   YEAR   PUDUCHERRY\n",
       "0  2016  5276.150011\n",
       "1  2017  5266.505752\n",
       "2  2018  5256.861493\n",
       "3  2019  5247.217234"
      ]
     },
     "execution_count": 26,
     "metadata": {},
     "output_type": "execute_result"
    }
   ],
   "source": [
    "data_pudu = pd.read_csv('predicted/puducherry.csv')\n",
    "data_pudu.head(4)"
   ]
  },
  {
   "cell_type": "code",
   "execution_count": 27,
   "id": "afc271bd",
   "metadata": {},
   "outputs": [
    {
     "name": "stdout",
     "output_type": "stream",
     "text": [
      "MAE: 671.1836228287848\n",
      "MSE: 564219.1430122931\n",
      "RMSE: 751.1452209874553\n"
     ]
    }
   ],
   "source": [
    "mae_pudu = metrics.mean_absolute_error(data_pudu.head(4)[['PUDUCHERRY']], data_actual[['PUDUCHERRY']])\n",
    "mse_pudu = metrics.mean_squared_error(data_pudu.head(4)[['PUDUCHERRY']], data_actual[['PUDUCHERRY']])\n",
    "rmse_pudu = np.sqrt(mse_pudu)\n",
    "\n",
    "print(\"MAE:\", mae_pudu)\n",
    "print(\"MSE:\", mse_pudu)\n",
    "print(\"RMSE:\", rmse_pudu)"
   ]
  },
  {
   "cell_type": "markdown",
   "id": "2def7944",
   "metadata": {},
   "source": [
    "> ## 3. DAMAN AND DIU"
   ]
  },
  {
   "cell_type": "code",
   "execution_count": 28,
   "id": "25903fdd",
   "metadata": {},
   "outputs": [],
   "source": [
    "# DAMAN AND DIU"
   ]
  },
  {
   "cell_type": "code",
   "execution_count": 29,
   "id": "29473dae",
   "metadata": {},
   "outputs": [
    {
     "data": {
      "text/plain": [
       "LinearRegression()"
      ]
     },
     "execution_count": 29,
     "metadata": {},
     "output_type": "execute_result"
    }
   ],
   "source": [
    "reg = linear_model.LinearRegression()\n",
    "reg.fit(data_train[['YEAR']], data_train[['DAMAN AND DIU']])"
   ]
  },
  {
   "cell_type": "code",
   "execution_count": 30,
   "id": "667d3e2c",
   "metadata": {},
   "outputs": [
    {
     "data": {
      "text/html": [
       "<div>\n",
       "<style scoped>\n",
       "    .dataframe tbody tr th:only-of-type {\n",
       "        vertical-align: middle;\n",
       "    }\n",
       "\n",
       "    .dataframe tbody tr th {\n",
       "        vertical-align: top;\n",
       "    }\n",
       "\n",
       "    .dataframe thead th {\n",
       "        text-align: right;\n",
       "    }\n",
       "</style>\n",
       "<table border=\"1\" class=\"dataframe\">\n",
       "  <thead>\n",
       "    <tr style=\"text-align: right;\">\n",
       "      <th></th>\n",
       "      <th>YEAR</th>\n",
       "    </tr>\n",
       "  </thead>\n",
       "  <tbody>\n",
       "    <tr>\n",
       "      <th>0</th>\n",
       "      <td>2016</td>\n",
       "    </tr>\n",
       "    <tr>\n",
       "      <th>1</th>\n",
       "      <td>2017</td>\n",
       "    </tr>\n",
       "    <tr>\n",
       "      <th>2</th>\n",
       "      <td>2018</td>\n",
       "    </tr>\n",
       "    <tr>\n",
       "      <th>3</th>\n",
       "      <td>2019</td>\n",
       "    </tr>\n",
       "    <tr>\n",
       "      <th>4</th>\n",
       "      <td>2020</td>\n",
       "    </tr>\n",
       "    <tr>\n",
       "      <th>5</th>\n",
       "      <td>2021</td>\n",
       "    </tr>\n",
       "    <tr>\n",
       "      <th>6</th>\n",
       "      <td>2022</td>\n",
       "    </tr>\n",
       "    <tr>\n",
       "      <th>7</th>\n",
       "      <td>2023</td>\n",
       "    </tr>\n",
       "    <tr>\n",
       "      <th>8</th>\n",
       "      <td>2024</td>\n",
       "    </tr>\n",
       "    <tr>\n",
       "      <th>9</th>\n",
       "      <td>2025</td>\n",
       "    </tr>\n",
       "    <tr>\n",
       "      <th>10</th>\n",
       "      <td>2026</td>\n",
       "    </tr>\n",
       "    <tr>\n",
       "      <th>11</th>\n",
       "      <td>2027</td>\n",
       "    </tr>\n",
       "    <tr>\n",
       "      <th>12</th>\n",
       "      <td>2028</td>\n",
       "    </tr>\n",
       "    <tr>\n",
       "      <th>13</th>\n",
       "      <td>2029</td>\n",
       "    </tr>\n",
       "    <tr>\n",
       "      <th>14</th>\n",
       "      <td>2030</td>\n",
       "    </tr>\n",
       "  </tbody>\n",
       "</table>\n",
       "</div>"
      ],
      "text/plain": [
       "    YEAR\n",
       "0   2016\n",
       "1   2017\n",
       "2   2018\n",
       "3   2019\n",
       "4   2020\n",
       "5   2021\n",
       "6   2022\n",
       "7   2023\n",
       "8   2024\n",
       "9   2025\n",
       "10  2026\n",
       "11  2027\n",
       "12  2028\n",
       "13  2029\n",
       "14  2030"
      ]
     },
     "execution_count": 30,
     "metadata": {},
     "output_type": "execute_result"
    }
   ],
   "source": [
    "data_test = pd.read_csv(\"predict.csv\")\n",
    "data_test"
   ]
  },
  {
   "cell_type": "code",
   "execution_count": 31,
   "id": "f4bace53",
   "metadata": {},
   "outputs": [
    {
     "data": {
      "text/plain": [
       "<matplotlib.collections.PathCollection at 0x1eeefc6b6d0>"
      ]
     },
     "execution_count": 31,
     "metadata": {},
     "output_type": "execute_result"
    },
    {
     "data": {
      "image/png": "[encoded data removed]",
      "text/plain": [
       "<Figure size 432x288 with 1 Axes>"
      ]
     },
     "metadata": {
      "needs_background": "light"
     },
     "output_type": "display_data"
    }
   ],
   "source": [
    "%matplotlib inline\n",
    "plt.xlabel('Year')\n",
    "plt.ylabel('Number of cases in Lakh')\n",
    "plt.scatter(data_train[['YEAR']], data_train[['DAMAN AND DIU']], color = 'red', marker = 'x')"
   ]
  },
  {
   "cell_type": "code",
   "execution_count": 32,
   "id": "925c37bb",
   "metadata": {},
   "outputs": [
    {
     "data": {
      "text/plain": [
       "array([[269.58526957],\n",
       "       [270.48748026],\n",
       "       [271.38969095],\n",
       "       [272.29190165],\n",
       "       [273.19411234],\n",
       "       [274.09632303],\n",
       "       [274.99853372],\n",
       "       [275.90074442],\n",
       "       [276.80295511],\n",
       "       [277.7051658 ],\n",
       "       [278.60737649],\n",
       "       [279.50958719],\n",
       "       [280.41179788],\n",
       "       [281.31400857],\n",
       "       [282.21621926]])"
      ]
     },
     "execution_count": 32,
     "metadata": {},
     "output_type": "execute_result"
    }
   ],
   "source": [
    "y = reg.predict(data_test)\n",
    "y"
   ]
  },
  {
   "cell_type": "code",
   "execution_count": 33,
   "id": "28c2820a",
   "metadata": {},
   "outputs": [],
   "source": [
    "data_test['DAMAN AND DIU'] = y"
   ]
  },
  {
   "cell_type": "code",
   "execution_count": 34,
   "id": "388f181c",
   "metadata": {},
   "outputs": [],
   "source": [
    "data_test.to_csv(\"predicted/daman.csv\", index = False)"
   ]
  },
  {
   "cell_type": "code",
   "execution_count": 35,
   "id": "364770a3",
   "metadata": {
    "scrolled": true
   },
   "outputs": [
    {
     "data": {
      "text/plain": [
       "[<matplotlib.lines.Line2D at 0x1eeefb13ca0>]"
      ]
     },
     "execution_count": 35,
     "metadata": {},
     "output_type": "execute_result"
    },
    {
     "data": {
      "image/png": "[encoded data removed]",
      "text/plain": [
       "<Figure size 432x288 with 1 Axes>"
      ]
     },
     "metadata": {
      "needs_background": "light"
     },
     "output_type": "display_data"
    }
   ],
   "source": [
    "%matplotlib inline\n",
    "plt.xlabel('Year')\n",
    "plt.ylabel('Number of cases in Lakh')\n",
    "plt.scatter(data_train[['YEAR']], data_train[['DAMAN AND DIU']], color = 'red', marker = 'x')\n",
    "plt.plot(data_train[['YEAR']], reg.predict(data_train[['YEAR']]), color = 'blue')"
   ]
  },
  {
   "cell_type": "code",
   "execution_count": 36,
   "id": "b369ed3a",
   "metadata": {},
   "outputs": [
    {
     "data": {
      "text/html": [
       "<div>\n",
       "<style scoped>\n",
       "    .dataframe tbody tr th:only-of-type {\n",
       "        vertical-align: middle;\n",
       "    }\n",
       "\n",
       "    .dataframe tbody tr th {\n",
       "        vertical-align: top;\n",
       "    }\n",
       "\n",
       "    .dataframe thead th {\n",
       "        text-align: right;\n",
       "    }\n",
       "</style>\n",
       "<table border=\"1\" class=\"dataframe\">\n",
       "  <thead>\n",
       "    <tr style=\"text-align: right;\">\n",
       "      <th></th>\n",
       "      <th>YEAR</th>\n",
       "      <th>DAMAN AND DIU</th>\n",
       "    </tr>\n",
       "  </thead>\n",
       "  <tbody>\n",
       "    <tr>\n",
       "      <th>0</th>\n",
       "      <td>2016</td>\n",
       "      <td>269.585270</td>\n",
       "    </tr>\n",
       "    <tr>\n",
       "      <th>1</th>\n",
       "      <td>2017</td>\n",
       "      <td>270.487480</td>\n",
       "    </tr>\n",
       "    <tr>\n",
       "      <th>2</th>\n",
       "      <td>2018</td>\n",
       "      <td>271.389691</td>\n",
       "    </tr>\n",
       "    <tr>\n",
       "      <th>3</th>\n",
       "      <td>2019</td>\n",
       "      <td>272.291902</td>\n",
       "    </tr>\n",
       "  </tbody>\n",
       "</table>\n",
       "</div>"
      ],
      "text/plain": [
       "   YEAR  DAMAN AND DIU\n",
       "0  2016     269.585270\n",
       "1  2017     270.487480\n",
       "2  2018     271.389691\n",
       "3  2019     272.291902"
      ]
     },
     "execution_count": 36,
     "metadata": {},
     "output_type": "execute_result"
    }
   ],
   "source": [
    "data_daman = pd.read_csv('predicted/daman.csv')\n",
    "data_daman.head(4)"
   ]
  },
  {
   "cell_type": "code",
   "execution_count": 37,
   "id": "8ffbef16",
   "metadata": {},
   "outputs": [
    {
     "name": "stdout",
     "output_type": "stream",
     "text": [
      "MAE: 72.31141439205976\n",
      "MSE: 6551.30954424754\n",
      "RMSE: 80.94016026823482\n"
     ]
    }
   ],
   "source": [
    "mae_daman = metrics.mean_absolute_error(data_daman.head(4)[['DAMAN AND DIU']], data_actual[['DAMAN AND DIU']])\n",
    "mse_daman = metrics.mean_squared_error(data_daman.head(4)[['DAMAN AND DIU']], data_actual[['DAMAN AND DIU']])\n",
    "rmse_daman = np.sqrt(mse_daman)\n",
    "\n",
    "print(\"MAE:\", mae_daman)\n",
    "print(\"MSE:\", mse_daman)\n",
    "print(\"RMSE:\", rmse_daman)"
   ]
  },
  {
   "cell_type": "markdown",
   "id": "70321d1c",
   "metadata": {},
   "source": [
    "> ## 4. CHANDIGARH"
   ]
  },
  {
   "cell_type": "code",
   "execution_count": 38,
   "id": "45b4a628",
   "metadata": {},
   "outputs": [],
   "source": [
    "# CHANDIGARH"
   ]
  },
  {
   "cell_type": "code",
   "execution_count": 39,
   "id": "4471f6c1",
   "metadata": {},
   "outputs": [
    {
     "data": {
      "text/plain": [
       "LinearRegression()"
      ]
     },
     "execution_count": 39,
     "metadata": {},
     "output_type": "execute_result"
    }
   ],
   "source": [
    "reg = linear_model.LinearRegression()\n",
    "reg.fit(data_train[['YEAR']], data_train[['CHANDIGARH']])"
   ]
  },
  {
   "cell_type": "code",
   "execution_count": 40,
   "id": "4d09b1ef",
   "metadata": {},
   "outputs": [
    {
     "data": {
      "text/html": [
       "<div>\n",
       "<style scoped>\n",
       "    .dataframe tbody tr th:only-of-type {\n",
       "        vertical-align: middle;\n",
       "    }\n",
       "\n",
       "    .dataframe tbody tr th {\n",
       "        vertical-align: top;\n",
       "    }\n",
       "\n",
       "    .dataframe thead th {\n",
       "        text-align: right;\n",
       "    }\n",
       "</style>\n",
       "<table border=\"1\" class=\"dataframe\">\n",
       "  <thead>\n",
       "    <tr style=\"text-align: right;\">\n",
       "      <th></th>\n",
       "      <th>YEAR</th>\n",
       "    </tr>\n",
       "  </thead>\n",
       "  <tbody>\n",
       "    <tr>\n",
       "      <th>0</th>\n",
       "      <td>2016</td>\n",
       "    </tr>\n",
       "    <tr>\n",
       "      <th>1</th>\n",
       "      <td>2017</td>\n",
       "    </tr>\n",
       "    <tr>\n",
       "      <th>2</th>\n",
       "      <td>2018</td>\n",
       "    </tr>\n",
       "    <tr>\n",
       "      <th>3</th>\n",
       "      <td>2019</td>\n",
       "    </tr>\n",
       "    <tr>\n",
       "      <th>4</th>\n",
       "      <td>2020</td>\n",
       "    </tr>\n",
       "    <tr>\n",
       "      <th>5</th>\n",
       "      <td>2021</td>\n",
       "    </tr>\n",
       "    <tr>\n",
       "      <th>6</th>\n",
       "      <td>2022</td>\n",
       "    </tr>\n",
       "    <tr>\n",
       "      <th>7</th>\n",
       "      <td>2023</td>\n",
       "    </tr>\n",
       "    <tr>\n",
       "      <th>8</th>\n",
       "      <td>2024</td>\n",
       "    </tr>\n",
       "    <tr>\n",
       "      <th>9</th>\n",
       "      <td>2025</td>\n",
       "    </tr>\n",
       "    <tr>\n",
       "      <th>10</th>\n",
       "      <td>2026</td>\n",
       "    </tr>\n",
       "    <tr>\n",
       "      <th>11</th>\n",
       "      <td>2027</td>\n",
       "    </tr>\n",
       "    <tr>\n",
       "      <th>12</th>\n",
       "      <td>2028</td>\n",
       "    </tr>\n",
       "    <tr>\n",
       "      <th>13</th>\n",
       "      <td>2029</td>\n",
       "    </tr>\n",
       "    <tr>\n",
       "      <th>14</th>\n",
       "      <td>2030</td>\n",
       "    </tr>\n",
       "  </tbody>\n",
       "</table>\n",
       "</div>"
      ],
      "text/plain": [
       "    YEAR\n",
       "0   2016\n",
       "1   2017\n",
       "2   2018\n",
       "3   2019\n",
       "4   2020\n",
       "5   2021\n",
       "6   2022\n",
       "7   2023\n",
       "8   2024\n",
       "9   2025\n",
       "10  2026\n",
       "11  2027\n",
       "12  2028\n",
       "13  2029\n",
       "14  2030"
      ]
     },
     "execution_count": 40,
     "metadata": {},
     "output_type": "execute_result"
    }
   ],
   "source": [
    "data_test = pd.read_csv(\"predict.csv\")\n",
    "data_test"
   ]
  },
  {
   "cell_type": "code",
   "execution_count": 41,
   "id": "d47c3cc5",
   "metadata": {},
   "outputs": [
    {
     "data": {
      "text/plain": [
       "<matplotlib.collections.PathCollection at 0x1eeefd99e80>"
      ]
     },
     "execution_count": 41,
     "metadata": {},
     "output_type": "execute_result"
    },
    {
     "data": {
      "image/png": "[encoded data removed]",
      "text/plain": [
       "<Figure size 432x288 with 1 Axes>"
      ]
     },
     "metadata": {
      "needs_background": "light"
     },
     "output_type": "display_data"
    }
   ],
   "source": [
    "%matplotlib inline\n",
    "plt.xlabel('Year')\n",
    "plt.ylabel('Number of cases in Lakh')\n",
    "plt.scatter(data_train[['YEAR']], data_train[['CHANDIGARH']], color = 'red', marker = 'x')"
   ]
  },
  {
   "cell_type": "code",
   "execution_count": 42,
   "id": "016e2d99",
   "metadata": {},
   "outputs": [
    {
     "data": {
      "text/plain": [
       "array([[5401.55693097],\n",
       "       [5538.28479585],\n",
       "       [5675.01266073],\n",
       "       [5811.7405256 ],\n",
       "       [5948.46839048],\n",
       "       [6085.19625536],\n",
       "       [6221.92412023],\n",
       "       [6358.65198511],\n",
       "       [6495.37984999],\n",
       "       [6632.10771487],\n",
       "       [6768.83557974],\n",
       "       [6905.56344462],\n",
       "       [7042.2913095 ],\n",
       "       [7179.01917437],\n",
       "       [7315.74703925]])"
      ]
     },
     "execution_count": 42,
     "metadata": {},
     "output_type": "execute_result"
    }
   ],
   "source": [
    "y = reg.predict(data_test)\n",
    "y"
   ]
  },
  {
   "cell_type": "code",
   "execution_count": 43,
   "id": "547cd15b",
   "metadata": {},
   "outputs": [],
   "source": [
    "data_test['CHANDIGARH'] = y"
   ]
  },
  {
   "cell_type": "code",
   "execution_count": 44,
   "id": "f2a5fd96",
   "metadata": {},
   "outputs": [
    {
     "data": {
      "text/html": [
       "<div>\n",
       "<style scoped>\n",
       "    .dataframe tbody tr th:only-of-type {\n",
       "        vertical-align: middle;\n",
       "    }\n",
       "\n",
       "    .dataframe tbody tr th {\n",
       "        vertical-align: top;\n",
       "    }\n",
       "\n",
       "    .dataframe thead th {\n",
       "        text-align: right;\n",
       "    }\n",
       "</style>\n",
       "<table border=\"1\" class=\"dataframe\">\n",
       "  <thead>\n",
       "    <tr style=\"text-align: right;\">\n",
       "      <th></th>\n",
       "      <th>YEAR</th>\n",
       "      <th>CHANDIGARH</th>\n",
       "    </tr>\n",
       "  </thead>\n",
       "  <tbody>\n",
       "    <tr>\n",
       "      <th>0</th>\n",
       "      <td>2016</td>\n",
       "      <td>5401.556931</td>\n",
       "    </tr>\n",
       "    <tr>\n",
       "      <th>1</th>\n",
       "      <td>2017</td>\n",
       "      <td>5538.284796</td>\n",
       "    </tr>\n",
       "    <tr>\n",
       "      <th>2</th>\n",
       "      <td>2018</td>\n",
       "      <td>5675.012661</td>\n",
       "    </tr>\n",
       "    <tr>\n",
       "      <th>3</th>\n",
       "      <td>2019</td>\n",
       "      <td>5811.740526</td>\n",
       "    </tr>\n",
       "    <tr>\n",
       "      <th>4</th>\n",
       "      <td>2020</td>\n",
       "      <td>5948.468390</td>\n",
       "    </tr>\n",
       "    <tr>\n",
       "      <th>5</th>\n",
       "      <td>2021</td>\n",
       "      <td>6085.196255</td>\n",
       "    </tr>\n",
       "    <tr>\n",
       "      <th>6</th>\n",
       "      <td>2022</td>\n",
       "      <td>6221.924120</td>\n",
       "    </tr>\n",
       "    <tr>\n",
       "      <th>7</th>\n",
       "      <td>2023</td>\n",
       "      <td>6358.651985</td>\n",
       "    </tr>\n",
       "    <tr>\n",
       "      <th>8</th>\n",
       "      <td>2024</td>\n",
       "      <td>6495.379850</td>\n",
       "    </tr>\n",
       "    <tr>\n",
       "      <th>9</th>\n",
       "      <td>2025</td>\n",
       "      <td>6632.107715</td>\n",
       "    </tr>\n",
       "    <tr>\n",
       "      <th>10</th>\n",
       "      <td>2026</td>\n",
       "      <td>6768.835580</td>\n",
       "    </tr>\n",
       "    <tr>\n",
       "      <th>11</th>\n",
       "      <td>2027</td>\n",
       "      <td>6905.563445</td>\n",
       "    </tr>\n",
       "    <tr>\n",
       "      <th>12</th>\n",
       "      <td>2028</td>\n",
       "      <td>7042.291309</td>\n",
       "    </tr>\n",
       "    <tr>\n",
       "      <th>13</th>\n",
       "      <td>2029</td>\n",
       "      <td>7179.019174</td>\n",
       "    </tr>\n",
       "    <tr>\n",
       "      <th>14</th>\n",
       "      <td>2030</td>\n",
       "      <td>7315.747039</td>\n",
       "    </tr>\n",
       "  </tbody>\n",
       "</table>\n",
       "</div>"
      ],
      "text/plain": [
       "    YEAR   CHANDIGARH\n",
       "0   2016  5401.556931\n",
       "1   2017  5538.284796\n",
       "2   2018  5675.012661\n",
       "3   2019  5811.740526\n",
       "4   2020  5948.468390\n",
       "5   2021  6085.196255\n",
       "6   2022  6221.924120\n",
       "7   2023  6358.651985\n",
       "8   2024  6495.379850\n",
       "9   2025  6632.107715\n",
       "10  2026  6768.835580\n",
       "11  2027  6905.563445\n",
       "12  2028  7042.291309\n",
       "13  2029  7179.019174\n",
       "14  2030  7315.747039"
      ]
     },
     "execution_count": 44,
     "metadata": {},
     "output_type": "execute_result"
    }
   ],
   "source": [
    "data_test.to_csv(\"predicted/chandigarh.csv\", index = False)\n",
    "data_test"
   ]
  },
  {
   "cell_type": "code",
   "execution_count": 45,
   "id": "7b5cf844",
   "metadata": {
    "scrolled": false
   },
   "outputs": [
    {
     "data": {
      "text/plain": [
       "[<matplotlib.lines.Line2D at 0x1eeefe0c250>]"
      ]
     },
     "execution_count": 45,
     "metadata": {},
     "output_type": "execute_result"
    },
    {
     "data": {
      "image/png": "[encoded data removed]",
      "text/plain": [
       "<Figure size 432x288 with 1 Axes>"
      ]
     },
     "metadata": {
      "needs_background": "light"
     },
     "output_type": "display_data"
    }
   ],
   "source": [
    "%matplotlib inline\n",
    "plt.xlabel('Year')\n",
    "plt.ylabel('Number of cases in Lakh')\n",
    "plt.scatter(data_train[['YEAR']], data_train[['CHANDIGARH']], color = 'red', marker = 'x')\n",
    "plt.plot(data_train[['YEAR']], reg.predict(data_train[['YEAR']]), color = 'blue')"
   ]
  },
  {
   "cell_type": "code",
   "execution_count": 46,
   "id": "f5fbc1d8",
   "metadata": {},
   "outputs": [
    {
     "data": {
      "text/html": [
       "<div>\n",
       "<style scoped>\n",
       "    .dataframe tbody tr th:only-of-type {\n",
       "        vertical-align: middle;\n",
       "    }\n",
       "\n",
       "    .dataframe tbody tr th {\n",
       "        vertical-align: top;\n",
       "    }\n",
       "\n",
       "    .dataframe thead th {\n",
       "        text-align: right;\n",
       "    }\n",
       "</style>\n",
       "<table border=\"1\" class=\"dataframe\">\n",
       "  <thead>\n",
       "    <tr style=\"text-align: right;\">\n",
       "      <th></th>\n",
       "      <th>YEAR</th>\n",
       "      <th>CHANDIGARH</th>\n",
       "    </tr>\n",
       "  </thead>\n",
       "  <tbody>\n",
       "    <tr>\n",
       "      <th>0</th>\n",
       "      <td>2016</td>\n",
       "      <td>5401.556931</td>\n",
       "    </tr>\n",
       "    <tr>\n",
       "      <th>1</th>\n",
       "      <td>2017</td>\n",
       "      <td>5538.284796</td>\n",
       "    </tr>\n",
       "    <tr>\n",
       "      <th>2</th>\n",
       "      <td>2018</td>\n",
       "      <td>5675.012661</td>\n",
       "    </tr>\n",
       "    <tr>\n",
       "      <th>3</th>\n",
       "      <td>2019</td>\n",
       "      <td>5811.740526</td>\n",
       "    </tr>\n",
       "  </tbody>\n",
       "</table>\n",
       "</div>"
      ],
      "text/plain": [
       "   YEAR   CHANDIGARH\n",
       "0  2016  5401.556931\n",
       "1  2017  5538.284796\n",
       "2  2018  5675.012661\n",
       "3  2019  5811.740526"
      ]
     },
     "execution_count": 46,
     "metadata": {},
     "output_type": "execute_result"
    }
   ],
   "source": [
    "data_chandi = pd.read_csv('predicted/chandigarh.csv')\n",
    "data_chandi.head(4)"
   ]
  },
  {
   "cell_type": "code",
   "execution_count": 47,
   "id": "f9e1dce5",
   "metadata": {},
   "outputs": [
    {
     "name": "stdout",
     "output_type": "stream",
     "text": [
      "MAE: 701.8923979246756\n",
      "MSE: 769285.3015152989\n",
      "RMSE: 877.0891069414207\n"
     ]
    }
   ],
   "source": [
    "mae_chandi = metrics.mean_absolute_error(data_chandi.head(4)[['CHANDIGARH']], data_actual[['CHANDIGARH']])\n",
    "mse_chandi = metrics.mean_squared_error(data_chandi.head(4)[['CHANDIGARH']], data_actual[['CHANDIGARH']])\n",
    "rmse_chandi = np.sqrt(mse_chandi)\n",
    "\n",
    "print(\"MAE:\", mae_chandi)\n",
    "print(\"MSE:\", mse_chandi)\n",
    "print(\"RMSE:\", rmse_chandi)"
   ]
  },
  {
   "cell_type": "markdown",
   "id": "dcb88374",
   "metadata": {},
   "source": [
    "> ## 5. DELHI"
   ]
  },
  {
   "cell_type": "code",
   "execution_count": 48,
   "id": "b7a71210",
   "metadata": {},
   "outputs": [],
   "source": [
    "# DELHI"
   ]
  },
  {
   "cell_type": "code",
   "execution_count": 49,
   "id": "d9911d7d",
   "metadata": {},
   "outputs": [
    {
     "data": {
      "text/plain": [
       "LinearRegression()"
      ]
     },
     "execution_count": 49,
     "metadata": {},
     "output_type": "execute_result"
    }
   ],
   "source": [
    "reg = linear_model.LinearRegression()\n",
    "reg.fit(data_train[['YEAR']], data_train[['DELHI']])"
   ]
  },
  {
   "cell_type": "code",
   "execution_count": 50,
   "id": "c60572f2",
   "metadata": {},
   "outputs": [
    {
     "data": {
      "text/html": [
       "<div>\n",
       "<style scoped>\n",
       "    .dataframe tbody tr th:only-of-type {\n",
       "        vertical-align: middle;\n",
       "    }\n",
       "\n",
       "    .dataframe tbody tr th {\n",
       "        vertical-align: top;\n",
       "    }\n",
       "\n",
       "    .dataframe thead th {\n",
       "        text-align: right;\n",
       "    }\n",
       "</style>\n",
       "<table border=\"1\" class=\"dataframe\">\n",
       "  <thead>\n",
       "    <tr style=\"text-align: right;\">\n",
       "      <th></th>\n",
       "      <th>YEAR</th>\n",
       "    </tr>\n",
       "  </thead>\n",
       "  <tbody>\n",
       "    <tr>\n",
       "      <th>0</th>\n",
       "      <td>2016</td>\n",
       "    </tr>\n",
       "    <tr>\n",
       "      <th>1</th>\n",
       "      <td>2017</td>\n",
       "    </tr>\n",
       "    <tr>\n",
       "      <th>2</th>\n",
       "      <td>2018</td>\n",
       "    </tr>\n",
       "    <tr>\n",
       "      <th>3</th>\n",
       "      <td>2019</td>\n",
       "    </tr>\n",
       "    <tr>\n",
       "      <th>4</th>\n",
       "      <td>2020</td>\n",
       "    </tr>\n",
       "    <tr>\n",
       "      <th>5</th>\n",
       "      <td>2021</td>\n",
       "    </tr>\n",
       "    <tr>\n",
       "      <th>6</th>\n",
       "      <td>2022</td>\n",
       "    </tr>\n",
       "    <tr>\n",
       "      <th>7</th>\n",
       "      <td>2023</td>\n",
       "    </tr>\n",
       "    <tr>\n",
       "      <th>8</th>\n",
       "      <td>2024</td>\n",
       "    </tr>\n",
       "    <tr>\n",
       "      <th>9</th>\n",
       "      <td>2025</td>\n",
       "    </tr>\n",
       "    <tr>\n",
       "      <th>10</th>\n",
       "      <td>2026</td>\n",
       "    </tr>\n",
       "    <tr>\n",
       "      <th>11</th>\n",
       "      <td>2027</td>\n",
       "    </tr>\n",
       "    <tr>\n",
       "      <th>12</th>\n",
       "      <td>2028</td>\n",
       "    </tr>\n",
       "    <tr>\n",
       "      <th>13</th>\n",
       "      <td>2029</td>\n",
       "    </tr>\n",
       "    <tr>\n",
       "      <th>14</th>\n",
       "      <td>2030</td>\n",
       "    </tr>\n",
       "  </tbody>\n",
       "</table>\n",
       "</div>"
      ],
      "text/plain": [
       "    YEAR\n",
       "0   2016\n",
       "1   2017\n",
       "2   2018\n",
       "3   2019\n",
       "4   2020\n",
       "5   2021\n",
       "6   2022\n",
       "7   2023\n",
       "8   2024\n",
       "9   2025\n",
       "10  2026\n",
       "11  2027\n",
       "12  2028\n",
       "13  2029\n",
       "14  2030"
      ]
     },
     "execution_count": 50,
     "metadata": {},
     "output_type": "execute_result"
    }
   ],
   "source": [
    "data_test = pd.read_csv(\"predict.csv\")\n",
    "data_test"
   ]
  },
  {
   "cell_type": "code",
   "execution_count": 51,
   "id": "8e02d0dc",
   "metadata": {},
   "outputs": [
    {
     "data": {
      "text/plain": [
       "<matplotlib.collections.PathCollection at 0x1eeefe65d30>"
      ]
     },
     "execution_count": 51,
     "metadata": {},
     "output_type": "execute_result"
    },
    {
     "data": {
      "image/png": "[encoded data removed]",
      "text/plain": [
       "<Figure size 432x288 with 1 Axes>"
      ]
     },
     "metadata": {
      "needs_background": "light"
     },
     "output_type": "display_data"
    }
   ],
   "source": [
    "%matplotlib inline\n",
    "plt.xlabel('Year')\n",
    "plt.ylabel('Number of cases in Lakh')\n",
    "plt.scatter(data_train[['YEAR']], data_train[['DELHI']], color = 'red', marker = 'x')"
   ]
  },
  {
   "cell_type": "code",
   "execution_count": 52,
   "id": "4cd0b4ea",
   "metadata": {},
   "outputs": [
    {
     "data": {
      "text/plain": [
       "array([[108811.89767088],\n",
       "       [111500.06214753],\n",
       "       [114188.22662418],\n",
       "       [116876.39110083],\n",
       "       [119564.55557749],\n",
       "       [122252.72005414],\n",
       "       [124940.88453079],\n",
       "       [127629.04900744],\n",
       "       [130317.2134841 ],\n",
       "       [133005.37796075],\n",
       "       [135693.5424374 ],\n",
       "       [138381.70691405],\n",
       "       [141069.8713907 ],\n",
       "       [143758.03586736],\n",
       "       [146446.20034401]])"
      ]
     },
     "execution_count": 52,
     "metadata": {},
     "output_type": "execute_result"
    }
   ],
   "source": [
    "y = reg.predict(data_test)\n",
    "y"
   ]
  },
  {
   "cell_type": "code",
   "execution_count": 53,
   "id": "38663efa",
   "metadata": {},
   "outputs": [],
   "source": [
    "data_test['DELHI'] = y"
   ]
  },
  {
   "cell_type": "code",
   "execution_count": 54,
   "id": "f0575055",
   "metadata": {},
   "outputs": [
    {
     "data": {
      "text/html": [
       "<div>\n",
       "<style scoped>\n",
       "    .dataframe tbody tr th:only-of-type {\n",
       "        vertical-align: middle;\n",
       "    }\n",
       "\n",
       "    .dataframe tbody tr th {\n",
       "        vertical-align: top;\n",
       "    }\n",
       "\n",
       "    .dataframe thead th {\n",
       "        text-align: right;\n",
       "    }\n",
       "</style>\n",
       "<table border=\"1\" class=\"dataframe\">\n",
       "  <thead>\n",
       "    <tr style=\"text-align: right;\">\n",
       "      <th></th>\n",
       "      <th>YEAR</th>\n",
       "      <th>DELHI</th>\n",
       "    </tr>\n",
       "  </thead>\n",
       "  <tbody>\n",
       "    <tr>\n",
       "      <th>0</th>\n",
       "      <td>2016</td>\n",
       "      <td>108811.897671</td>\n",
       "    </tr>\n",
       "    <tr>\n",
       "      <th>1</th>\n",
       "      <td>2017</td>\n",
       "      <td>111500.062148</td>\n",
       "    </tr>\n",
       "    <tr>\n",
       "      <th>2</th>\n",
       "      <td>2018</td>\n",
       "      <td>114188.226624</td>\n",
       "    </tr>\n",
       "    <tr>\n",
       "      <th>3</th>\n",
       "      <td>2019</td>\n",
       "      <td>116876.391101</td>\n",
       "    </tr>\n",
       "    <tr>\n",
       "      <th>4</th>\n",
       "      <td>2020</td>\n",
       "      <td>119564.555577</td>\n",
       "    </tr>\n",
       "    <tr>\n",
       "      <th>5</th>\n",
       "      <td>2021</td>\n",
       "      <td>122252.720054</td>\n",
       "    </tr>\n",
       "    <tr>\n",
       "      <th>6</th>\n",
       "      <td>2022</td>\n",
       "      <td>124940.884531</td>\n",
       "    </tr>\n",
       "    <tr>\n",
       "      <th>7</th>\n",
       "      <td>2023</td>\n",
       "      <td>127629.049007</td>\n",
       "    </tr>\n",
       "    <tr>\n",
       "      <th>8</th>\n",
       "      <td>2024</td>\n",
       "      <td>130317.213484</td>\n",
       "    </tr>\n",
       "    <tr>\n",
       "      <th>9</th>\n",
       "      <td>2025</td>\n",
       "      <td>133005.377961</td>\n",
       "    </tr>\n",
       "    <tr>\n",
       "      <th>10</th>\n",
       "      <td>2026</td>\n",
       "      <td>135693.542437</td>\n",
       "    </tr>\n",
       "    <tr>\n",
       "      <th>11</th>\n",
       "      <td>2027</td>\n",
       "      <td>138381.706914</td>\n",
       "    </tr>\n",
       "    <tr>\n",
       "      <th>12</th>\n",
       "      <td>2028</td>\n",
       "      <td>141069.871391</td>\n",
       "    </tr>\n",
       "    <tr>\n",
       "      <th>13</th>\n",
       "      <td>2029</td>\n",
       "      <td>143758.035867</td>\n",
       "    </tr>\n",
       "    <tr>\n",
       "      <th>14</th>\n",
       "      <td>2030</td>\n",
       "      <td>146446.200344</td>\n",
       "    </tr>\n",
       "  </tbody>\n",
       "</table>\n",
       "</div>"
      ],
      "text/plain": [
       "    YEAR          DELHI\n",
       "0   2016  108811.897671\n",
       "1   2017  111500.062148\n",
       "2   2018  114188.226624\n",
       "3   2019  116876.391101\n",
       "4   2020  119564.555577\n",
       "5   2021  122252.720054\n",
       "6   2022  124940.884531\n",
       "7   2023  127629.049007\n",
       "8   2024  130317.213484\n",
       "9   2025  133005.377961\n",
       "10  2026  135693.542437\n",
       "11  2027  138381.706914\n",
       "12  2028  141069.871391\n",
       "13  2029  143758.035867\n",
       "14  2030  146446.200344"
      ]
     },
     "execution_count": 54,
     "metadata": {},
     "output_type": "execute_result"
    }
   ],
   "source": [
    "data_test.to_csv(\"predicted/delhi.csv\", index = False)\n",
    "data_test"
   ]
  },
  {
   "cell_type": "code",
   "execution_count": 55,
   "id": "06760fdb",
   "metadata": {
    "scrolled": true
   },
   "outputs": [
    {
     "data": {
      "text/plain": [
       "[<matplotlib.lines.Line2D at 0x1eeefec8f40>]"
      ]
     },
     "execution_count": 55,
     "metadata": {},
     "output_type": "execute_result"
    },
    {
     "data": {
      "image/png": "[encoded data removed]",
      "text/plain": [
       "<Figure size 432x288 with 1 Axes>"
      ]
     },
     "metadata": {
      "needs_background": "light"
     },
     "output_type": "display_data"
    }
   ],
   "source": [
    "%matplotlib inline\n",
    "plt.xlabel('Year')\n",
    "plt.ylabel('Number of cases in Lakh')\n",
    "plt.scatter(data_train[['YEAR']], data_train[['DELHI']], color = 'red', marker = 'x')\n",
    "plt.plot(data_train[['YEAR']], reg.predict(data_train[['YEAR']]), color = 'blue')"
   ]
  },
  {
   "cell_type": "code",
   "execution_count": 56,
   "id": "d999b761",
   "metadata": {},
   "outputs": [
    {
     "data": {
      "text/html": [
       "<div>\n",
       "<style scoped>\n",
       "    .dataframe tbody tr th:only-of-type {\n",
       "        vertical-align: middle;\n",
       "    }\n",
       "\n",
       "    .dataframe tbody tr th {\n",
       "        vertical-align: top;\n",
       "    }\n",
       "\n",
       "    .dataframe thead th {\n",
       "        text-align: right;\n",
       "    }\n",
       "</style>\n",
       "<table border=\"1\" class=\"dataframe\">\n",
       "  <thead>\n",
       "    <tr style=\"text-align: right;\">\n",
       "      <th></th>\n",
       "      <th>YEAR</th>\n",
       "      <th>DELHI</th>\n",
       "    </tr>\n",
       "  </thead>\n",
       "  <tbody>\n",
       "    <tr>\n",
       "      <th>0</th>\n",
       "      <td>2016</td>\n",
       "      <td>108811.897671</td>\n",
       "    </tr>\n",
       "    <tr>\n",
       "      <th>1</th>\n",
       "      <td>2017</td>\n",
       "      <td>111500.062148</td>\n",
       "    </tr>\n",
       "    <tr>\n",
       "      <th>2</th>\n",
       "      <td>2018</td>\n",
       "      <td>114188.226624</td>\n",
       "    </tr>\n",
       "    <tr>\n",
       "      <th>3</th>\n",
       "      <td>2019</td>\n",
       "      <td>116876.391101</td>\n",
       "    </tr>\n",
       "  </tbody>\n",
       "</table>\n",
       "</div>"
      ],
      "text/plain": [
       "   YEAR          DELHI\n",
       "0  2016  108811.897671\n",
       "1  2017  111500.062148\n",
       "2  2018  114188.226624\n",
       "3  2019  116876.391101"
      ]
     },
     "execution_count": 56,
     "metadata": {},
     "output_type": "execute_result"
    }
   ],
   "source": [
    "data_delhi = pd.read_csv('predicted/delhi.csv')\n",
    "data_delhi.head(4)"
   ]
  },
  {
   "cell_type": "code",
   "execution_count": 57,
   "id": "31023715",
   "metadata": {},
   "outputs": [
    {
     "name": "stdout",
     "output_type": "stream",
     "text": [
      "MAE: 147282.6056141446\n",
      "MSE: 22804288449.08895\n",
      "RMSE: 151010.8885116863\n"
     ]
    }
   ],
   "source": [
    "mae_delhi = metrics.mean_absolute_error(data_delhi.head(4)[['DELHI']], data_actual[['DELHI']])\n",
    "mse_delhi = metrics.mean_squared_error(data_delhi.head(4)[['DELHI']], data_actual[['DELHI']])\n",
    "rmse_delhi = np.sqrt(mse_delhi)\n",
    "\n",
    "print(\"MAE:\", mae_delhi)\n",
    "print(\"MSE:\", mse_delhi)\n",
    "print(\"RMSE:\", rmse_delhi)"
   ]
  },
  {
   "cell_type": "markdown",
   "id": "6581bef8",
   "metadata": {},
   "source": [
    "> ## 6. JAMMU AND KASHMIR"
   ]
  },
  {
   "cell_type": "code",
   "execution_count": 58,
   "id": "762b9dfe",
   "metadata": {},
   "outputs": [],
   "source": [
    "# J AND K"
   ]
  },
  {
   "cell_type": "code",
   "execution_count": 59,
   "id": "a8f9f43a",
   "metadata": {},
   "outputs": [
    {
     "data": {
      "text/plain": [
       "LinearRegression()"
      ]
     },
     "execution_count": 59,
     "metadata": {},
     "output_type": "execute_result"
    }
   ],
   "source": [
    "reg = linear_model.LinearRegression()\n",
    "reg.fit(data_train[['YEAR']], data_train[['J AND K']])"
   ]
  },
  {
   "cell_type": "code",
   "execution_count": 60,
   "id": "c2bed5b9",
   "metadata": {},
   "outputs": [
    {
     "data": {
      "text/html": [
       "<div>\n",
       "<style scoped>\n",
       "    .dataframe tbody tr th:only-of-type {\n",
       "        vertical-align: middle;\n",
       "    }\n",
       "\n",
       "    .dataframe tbody tr th {\n",
       "        vertical-align: top;\n",
       "    }\n",
       "\n",
       "    .dataframe thead th {\n",
       "        text-align: right;\n",
       "    }\n",
       "</style>\n",
       "<table border=\"1\" class=\"dataframe\">\n",
       "  <thead>\n",
       "    <tr style=\"text-align: right;\">\n",
       "      <th></th>\n",
       "      <th>YEAR</th>\n",
       "    </tr>\n",
       "  </thead>\n",
       "  <tbody>\n",
       "    <tr>\n",
       "      <th>0</th>\n",
       "      <td>2016</td>\n",
       "    </tr>\n",
       "    <tr>\n",
       "      <th>1</th>\n",
       "      <td>2017</td>\n",
       "    </tr>\n",
       "    <tr>\n",
       "      <th>2</th>\n",
       "      <td>2018</td>\n",
       "    </tr>\n",
       "    <tr>\n",
       "      <th>3</th>\n",
       "      <td>2019</td>\n",
       "    </tr>\n",
       "    <tr>\n",
       "      <th>4</th>\n",
       "      <td>2020</td>\n",
       "    </tr>\n",
       "    <tr>\n",
       "      <th>5</th>\n",
       "      <td>2021</td>\n",
       "    </tr>\n",
       "    <tr>\n",
       "      <th>6</th>\n",
       "      <td>2022</td>\n",
       "    </tr>\n",
       "    <tr>\n",
       "      <th>7</th>\n",
       "      <td>2023</td>\n",
       "    </tr>\n",
       "    <tr>\n",
       "      <th>8</th>\n",
       "      <td>2024</td>\n",
       "    </tr>\n",
       "    <tr>\n",
       "      <th>9</th>\n",
       "      <td>2025</td>\n",
       "    </tr>\n",
       "    <tr>\n",
       "      <th>10</th>\n",
       "      <td>2026</td>\n",
       "    </tr>\n",
       "    <tr>\n",
       "      <th>11</th>\n",
       "      <td>2027</td>\n",
       "    </tr>\n",
       "    <tr>\n",
       "      <th>12</th>\n",
       "      <td>2028</td>\n",
       "    </tr>\n",
       "    <tr>\n",
       "      <th>13</th>\n",
       "      <td>2029</td>\n",
       "    </tr>\n",
       "    <tr>\n",
       "      <th>14</th>\n",
       "      <td>2030</td>\n",
       "    </tr>\n",
       "  </tbody>\n",
       "</table>\n",
       "</div>"
      ],
      "text/plain": [
       "    YEAR\n",
       "0   2016\n",
       "1   2017\n",
       "2   2018\n",
       "3   2019\n",
       "4   2020\n",
       "5   2021\n",
       "6   2022\n",
       "7   2023\n",
       "8   2024\n",
       "9   2025\n",
       "10  2026\n",
       "11  2027\n",
       "12  2028\n",
       "13  2029\n",
       "14  2030"
      ]
     },
     "execution_count": 60,
     "metadata": {},
     "output_type": "execute_result"
    }
   ],
   "source": [
    "data_test = pd.read_csv(\"predict.csv\")\n",
    "data_test"
   ]
  },
  {
   "cell_type": "code",
   "execution_count": 61,
   "id": "69778ae7",
   "metadata": {},
   "outputs": [
    {
     "data": {
      "text/plain": [
       "<matplotlib.collections.PathCollection at 0x1eeeff30cd0>"
      ]
     },
     "execution_count": 61,
     "metadata": {},
     "output_type": "execute_result"
    },
    {
     "data": {
      "image/png": "[encoded data removed]",
      "text/plain": [
       "<Figure size 432x288 with 1 Axes>"
      ]
     },
     "metadata": {
      "needs_background": "light"
     },
     "output_type": "display_data"
    }
   ],
   "source": [
    "%matplotlib inline\n",
    "plt.xlabel('Year')\n",
    "plt.ylabel('Number of cases in Lakh')\n",
    "plt.scatter(data_train[['YEAR']], data_train[['J AND K']], color = 'red', marker = 'x')"
   ]
  },
  {
   "cell_type": "code",
   "execution_count": 62,
   "id": "8585996f",
   "metadata": {},
   "outputs": [
    {
     "data": {
      "text/plain": [
       "array([[24274.75981277],\n",
       "       [24555.00451162],\n",
       "       [24835.24921047],\n",
       "       [25115.49390932],\n",
       "       [25395.73860817],\n",
       "       [25675.98330702],\n",
       "       [25956.22800587],\n",
       "       [26236.47270471],\n",
       "       [26516.71740356],\n",
       "       [26796.96210241],\n",
       "       [27077.20680126],\n",
       "       [27357.45150011],\n",
       "       [27637.69619896],\n",
       "       [27917.94089781],\n",
       "       [28198.18559666]])"
      ]
     },
     "execution_count": 62,
     "metadata": {},
     "output_type": "execute_result"
    }
   ],
   "source": [
    "y = reg.predict(data_test)\n",
    "y"
   ]
  },
  {
   "cell_type": "code",
   "execution_count": 63,
   "id": "3a63d776",
   "metadata": {},
   "outputs": [],
   "source": [
    "data_test['J AND K'] = y"
   ]
  },
  {
   "cell_type": "code",
   "execution_count": 64,
   "id": "2f2ce6d7",
   "metadata": {},
   "outputs": [
    {
     "data": {
      "text/html": [
       "<div>\n",
       "<style scoped>\n",
       "    .dataframe tbody tr th:only-of-type {\n",
       "        vertical-align: middle;\n",
       "    }\n",
       "\n",
       "    .dataframe tbody tr th {\n",
       "        vertical-align: top;\n",
       "    }\n",
       "\n",
       "    .dataframe thead th {\n",
       "        text-align: right;\n",
       "    }\n",
       "</style>\n",
       "<table border=\"1\" class=\"dataframe\">\n",
       "  <thead>\n",
       "    <tr style=\"text-align: right;\">\n",
       "      <th></th>\n",
       "      <th>YEAR</th>\n",
       "      <th>J AND K</th>\n",
       "    </tr>\n",
       "  </thead>\n",
       "  <tbody>\n",
       "    <tr>\n",
       "      <th>0</th>\n",
       "      <td>2016</td>\n",
       "      <td>24274.759813</td>\n",
       "    </tr>\n",
       "    <tr>\n",
       "      <th>1</th>\n",
       "      <td>2017</td>\n",
       "      <td>24555.004512</td>\n",
       "    </tr>\n",
       "    <tr>\n",
       "      <th>2</th>\n",
       "      <td>2018</td>\n",
       "      <td>24835.249210</td>\n",
       "    </tr>\n",
       "    <tr>\n",
       "      <th>3</th>\n",
       "      <td>2019</td>\n",
       "      <td>25115.493909</td>\n",
       "    </tr>\n",
       "    <tr>\n",
       "      <th>4</th>\n",
       "      <td>2020</td>\n",
       "      <td>25395.738608</td>\n",
       "    </tr>\n",
       "    <tr>\n",
       "      <th>5</th>\n",
       "      <td>2021</td>\n",
       "      <td>25675.983307</td>\n",
       "    </tr>\n",
       "    <tr>\n",
       "      <th>6</th>\n",
       "      <td>2022</td>\n",
       "      <td>25956.228006</td>\n",
       "    </tr>\n",
       "    <tr>\n",
       "      <th>7</th>\n",
       "      <td>2023</td>\n",
       "      <td>26236.472705</td>\n",
       "    </tr>\n",
       "    <tr>\n",
       "      <th>8</th>\n",
       "      <td>2024</td>\n",
       "      <td>26516.717404</td>\n",
       "    </tr>\n",
       "    <tr>\n",
       "      <th>9</th>\n",
       "      <td>2025</td>\n",
       "      <td>26796.962102</td>\n",
       "    </tr>\n",
       "    <tr>\n",
       "      <th>10</th>\n",
       "      <td>2026</td>\n",
       "      <td>27077.206801</td>\n",
       "    </tr>\n",
       "    <tr>\n",
       "      <th>11</th>\n",
       "      <td>2027</td>\n",
       "      <td>27357.451500</td>\n",
       "    </tr>\n",
       "    <tr>\n",
       "      <th>12</th>\n",
       "      <td>2028</td>\n",
       "      <td>27637.696199</td>\n",
       "    </tr>\n",
       "    <tr>\n",
       "      <th>13</th>\n",
       "      <td>2029</td>\n",
       "      <td>27917.940898</td>\n",
       "    </tr>\n",
       "    <tr>\n",
       "      <th>14</th>\n",
       "      <td>2030</td>\n",
       "      <td>28198.185597</td>\n",
       "    </tr>\n",
       "  </tbody>\n",
       "</table>\n",
       "</div>"
      ],
      "text/plain": [
       "    YEAR       J AND K\n",
       "0   2016  24274.759813\n",
       "1   2017  24555.004512\n",
       "2   2018  24835.249210\n",
       "3   2019  25115.493909\n",
       "4   2020  25395.738608\n",
       "5   2021  25675.983307\n",
       "6   2022  25956.228006\n",
       "7   2023  26236.472705\n",
       "8   2024  26516.717404\n",
       "9   2025  26796.962102\n",
       "10  2026  27077.206801\n",
       "11  2027  27357.451500\n",
       "12  2028  27637.696199\n",
       "13  2029  27917.940898\n",
       "14  2030  28198.185597"
      ]
     },
     "execution_count": 64,
     "metadata": {},
     "output_type": "execute_result"
    }
   ],
   "source": [
    "data_test.to_csv(\"predicted/jk.csv\", index = False)\n",
    "data_test"
   ]
  },
  {
   "cell_type": "code",
   "execution_count": 65,
   "id": "d070330d",
   "metadata": {
    "scrolled": true
   },
   "outputs": [
    {
     "data": {
      "text/plain": [
       "[<matplotlib.lines.Line2D at 0x1eeeff9c2e0>]"
      ]
     },
     "execution_count": 65,
     "metadata": {},
     "output_type": "execute_result"
    },
    {
     "data": {
      "image/png": "[encoded data removed]",
      "text/plain": [
       "<Figure size 432x288 with 1 Axes>"
      ]
     },
     "metadata": {
      "needs_background": "light"
     },
     "output_type": "display_data"
    }
   ],
   "source": [
    "%matplotlib inline\n",
    "plt.xlabel('Year')\n",
    "plt.ylabel('Number of cases in Lakh')\n",
    "plt.scatter(data_train[['YEAR']], data_train[['J AND K']], color = 'red', marker = 'x')\n",
    "plt.plot(data_train[['YEAR']], reg.predict(data_train[['YEAR']]), color = 'blue')"
   ]
  },
  {
   "cell_type": "code",
   "execution_count": 66,
   "id": "6f03d8d8",
   "metadata": {},
   "outputs": [
    {
     "data": {
      "text/html": [
       "<div>\n",
       "<style scoped>\n",
       "    .dataframe tbody tr th:only-of-type {\n",
       "        vertical-align: middle;\n",
       "    }\n",
       "\n",
       "    .dataframe tbody tr th {\n",
       "        vertical-align: top;\n",
       "    }\n",
       "\n",
       "    .dataframe thead th {\n",
       "        text-align: right;\n",
       "    }\n",
       "</style>\n",
       "<table border=\"1\" class=\"dataframe\">\n",
       "  <thead>\n",
       "    <tr style=\"text-align: right;\">\n",
       "      <th></th>\n",
       "      <th>YEAR</th>\n",
       "      <th>J AND K</th>\n",
       "    </tr>\n",
       "  </thead>\n",
       "  <tbody>\n",
       "    <tr>\n",
       "      <th>0</th>\n",
       "      <td>2016</td>\n",
       "      <td>24274.759813</td>\n",
       "    </tr>\n",
       "    <tr>\n",
       "      <th>1</th>\n",
       "      <td>2017</td>\n",
       "      <td>24555.004512</td>\n",
       "    </tr>\n",
       "    <tr>\n",
       "      <th>2</th>\n",
       "      <td>2018</td>\n",
       "      <td>24835.249210</td>\n",
       "    </tr>\n",
       "    <tr>\n",
       "      <th>3</th>\n",
       "      <td>2019</td>\n",
       "      <td>25115.493909</td>\n",
       "    </tr>\n",
       "  </tbody>\n",
       "</table>\n",
       "</div>"
      ],
      "text/plain": [
       "   YEAR       J AND K\n",
       "0  2016  24274.759813\n",
       "1  2017  24555.004512\n",
       "2  2018  24835.249210\n",
       "3  2019  25115.493909"
      ]
     },
     "execution_count": 66,
     "metadata": {},
     "output_type": "execute_result"
    }
   ],
   "source": [
    "data_jk = pd.read_csv('predicted/jk.csv')\n",
    "data_jk.head(4)"
   ]
  },
  {
   "cell_type": "code",
   "execution_count": 67,
   "id": "26a684dc",
   "metadata": {},
   "outputs": [
    {
     "name": "stdout",
     "output_type": "stream",
     "text": [
      "MAE: 1533.8731389578888\n",
      "MSE: 3167638.296388597\n",
      "RMSE: 1779.7860254504183\n"
     ]
    }
   ],
   "source": [
    "mae_jk = metrics.mean_absolute_error(data_jk.head(4)[['J AND K']], data_actual[['J AND K']])\n",
    "mse_jk = metrics.mean_squared_error(data_jk.head(4)[['J AND K']], data_actual[['J AND K']])\n",
    "rmse_jk = np.sqrt(mse_jk)\n",
    "\n",
    "print(\"MAE:\", mae_jk)\n",
    "print(\"MSE:\", mse_jk)\n",
    "print(\"RMSE:\", rmse_jk)"
   ]
  },
  {
   "cell_type": "markdown",
   "id": "d8bc43c0",
   "metadata": {},
   "source": [
    "> ## 7. LAKSHADWEEP"
   ]
  },
  {
   "cell_type": "code",
   "execution_count": 68,
   "id": "166190ec",
   "metadata": {},
   "outputs": [],
   "source": [
    "# LAKHSADWEEP"
   ]
  },
  {
   "cell_type": "code",
   "execution_count": 69,
   "id": "10d09fc8",
   "metadata": {},
   "outputs": [
    {
     "data": {
      "text/plain": [
       "LinearRegression()"
      ]
     },
     "execution_count": 69,
     "metadata": {},
     "output_type": "execute_result"
    }
   ],
   "source": [
    "reg = linear_model.LinearRegression()\n",
    "reg.fit(data_train[['YEAR']], data_train[['LAKSHADWEEP']])"
   ]
  },
  {
   "cell_type": "code",
   "execution_count": 70,
   "id": "02399be6",
   "metadata": {},
   "outputs": [
    {
     "data": {
      "text/html": [
       "<div>\n",
       "<style scoped>\n",
       "    .dataframe tbody tr th:only-of-type {\n",
       "        vertical-align: middle;\n",
       "    }\n",
       "\n",
       "    .dataframe tbody tr th {\n",
       "        vertical-align: top;\n",
       "    }\n",
       "\n",
       "    .dataframe thead th {\n",
       "        text-align: right;\n",
       "    }\n",
       "</style>\n",
       "<table border=\"1\" class=\"dataframe\">\n",
       "  <thead>\n",
       "    <tr style=\"text-align: right;\">\n",
       "      <th></th>\n",
       "      <th>YEAR</th>\n",
       "    </tr>\n",
       "  </thead>\n",
       "  <tbody>\n",
       "    <tr>\n",
       "      <th>0</th>\n",
       "      <td>2016</td>\n",
       "    </tr>\n",
       "    <tr>\n",
       "      <th>1</th>\n",
       "      <td>2017</td>\n",
       "    </tr>\n",
       "    <tr>\n",
       "      <th>2</th>\n",
       "      <td>2018</td>\n",
       "    </tr>\n",
       "    <tr>\n",
       "      <th>3</th>\n",
       "      <td>2019</td>\n",
       "    </tr>\n",
       "    <tr>\n",
       "      <th>4</th>\n",
       "      <td>2020</td>\n",
       "    </tr>\n",
       "    <tr>\n",
       "      <th>5</th>\n",
       "      <td>2021</td>\n",
       "    </tr>\n",
       "    <tr>\n",
       "      <th>6</th>\n",
       "      <td>2022</td>\n",
       "    </tr>\n",
       "    <tr>\n",
       "      <th>7</th>\n",
       "      <td>2023</td>\n",
       "    </tr>\n",
       "    <tr>\n",
       "      <th>8</th>\n",
       "      <td>2024</td>\n",
       "    </tr>\n",
       "    <tr>\n",
       "      <th>9</th>\n",
       "      <td>2025</td>\n",
       "    </tr>\n",
       "    <tr>\n",
       "      <th>10</th>\n",
       "      <td>2026</td>\n",
       "    </tr>\n",
       "    <tr>\n",
       "      <th>11</th>\n",
       "      <td>2027</td>\n",
       "    </tr>\n",
       "    <tr>\n",
       "      <th>12</th>\n",
       "      <td>2028</td>\n",
       "    </tr>\n",
       "    <tr>\n",
       "      <th>13</th>\n",
       "      <td>2029</td>\n",
       "    </tr>\n",
       "    <tr>\n",
       "      <th>14</th>\n",
       "      <td>2030</td>\n",
       "    </tr>\n",
       "  </tbody>\n",
       "</table>\n",
       "</div>"
      ],
      "text/plain": [
       "    YEAR\n",
       "0   2016\n",
       "1   2017\n",
       "2   2018\n",
       "3   2019\n",
       "4   2020\n",
       "5   2021\n",
       "6   2022\n",
       "7   2023\n",
       "8   2024\n",
       "9   2025\n",
       "10  2026\n",
       "11  2027\n",
       "12  2028\n",
       "13  2029\n",
       "14  2030"
      ]
     },
     "execution_count": 70,
     "metadata": {},
     "output_type": "execute_result"
    }
   ],
   "source": [
    "data_test = pd.read_csv(\"predict.csv\")\n",
    "data_test"
   ]
  },
  {
   "cell_type": "code",
   "execution_count": 71,
   "id": "04833c65",
   "metadata": {},
   "outputs": [
    {
     "data": {
      "text/plain": [
       "<matplotlib.collections.PathCollection at 0x1eeeffda4f0>"
      ]
     },
     "execution_count": 71,
     "metadata": {},
     "output_type": "execute_result"
    },
    {
     "data": {
      "image/png": "[encoded data removed]",
      "text/plain": [
       "<Figure size 432x288 with 1 Axes>"
      ]
     },
     "metadata": {
      "needs_background": "light"
     },
     "output_type": "display_data"
    }
   ],
   "source": [
    "%matplotlib inline\n",
    "plt.xlabel('Year')\n",
    "plt.ylabel('Number of cases in Lakh')\n",
    "plt.scatter(data_train[['YEAR']], data_train[['LAKSHADWEEP']], color = 'red', marker = 'x')"
   ]
  },
  {
   "cell_type": "code",
   "execution_count": 72,
   "id": "4e9ab431",
   "metadata": {},
   "outputs": [
    {
     "data": {
      "text/plain": [
       "array([[ 88.21489398],\n",
       "       [ 90.34592827],\n",
       "       [ 92.47696255],\n",
       "       [ 94.60799684],\n",
       "       [ 96.73903113],\n",
       "       [ 98.87006542],\n",
       "       [101.00109971],\n",
       "       [103.132134  ],\n",
       "       [105.26316828],\n",
       "       [107.39420257],\n",
       "       [109.52523686],\n",
       "       [111.65627115],\n",
       "       [113.78730544],\n",
       "       [115.91833972],\n",
       "       [118.04937401]])"
      ]
     },
     "execution_count": 72,
     "metadata": {},
     "output_type": "execute_result"
    }
   ],
   "source": [
    "y = reg.predict(data_test)\n",
    "y"
   ]
  },
  {
   "cell_type": "code",
   "execution_count": 73,
   "id": "1e5fbb53",
   "metadata": {},
   "outputs": [],
   "source": [
    "data_test['LAKSHADWEEP'] = y"
   ]
  },
  {
   "cell_type": "code",
   "execution_count": 74,
   "id": "70ab503f",
   "metadata": {},
   "outputs": [
    {
     "data": {
      "text/html": [
       "<div>\n",
       "<style scoped>\n",
       "    .dataframe tbody tr th:only-of-type {\n",
       "        vertical-align: middle;\n",
       "    }\n",
       "\n",
       "    .dataframe tbody tr th {\n",
       "        vertical-align: top;\n",
       "    }\n",
       "\n",
       "    .dataframe thead th {\n",
       "        text-align: right;\n",
       "    }\n",
       "</style>\n",
       "<table border=\"1\" class=\"dataframe\">\n",
       "  <thead>\n",
       "    <tr style=\"text-align: right;\">\n",
       "      <th></th>\n",
       "      <th>YEAR</th>\n",
       "      <th>LAKSHADWEEP</th>\n",
       "    </tr>\n",
       "  </thead>\n",
       "  <tbody>\n",
       "    <tr>\n",
       "      <th>0</th>\n",
       "      <td>2016</td>\n",
       "      <td>88.214894</td>\n",
       "    </tr>\n",
       "    <tr>\n",
       "      <th>1</th>\n",
       "      <td>2017</td>\n",
       "      <td>90.345928</td>\n",
       "    </tr>\n",
       "    <tr>\n",
       "      <th>2</th>\n",
       "      <td>2018</td>\n",
       "      <td>92.476963</td>\n",
       "    </tr>\n",
       "    <tr>\n",
       "      <th>3</th>\n",
       "      <td>2019</td>\n",
       "      <td>94.607997</td>\n",
       "    </tr>\n",
       "    <tr>\n",
       "      <th>4</th>\n",
       "      <td>2020</td>\n",
       "      <td>96.739031</td>\n",
       "    </tr>\n",
       "    <tr>\n",
       "      <th>5</th>\n",
       "      <td>2021</td>\n",
       "      <td>98.870065</td>\n",
       "    </tr>\n",
       "    <tr>\n",
       "      <th>6</th>\n",
       "      <td>2022</td>\n",
       "      <td>101.001100</td>\n",
       "    </tr>\n",
       "    <tr>\n",
       "      <th>7</th>\n",
       "      <td>2023</td>\n",
       "      <td>103.132134</td>\n",
       "    </tr>\n",
       "    <tr>\n",
       "      <th>8</th>\n",
       "      <td>2024</td>\n",
       "      <td>105.263168</td>\n",
       "    </tr>\n",
       "    <tr>\n",
       "      <th>9</th>\n",
       "      <td>2025</td>\n",
       "      <td>107.394203</td>\n",
       "    </tr>\n",
       "    <tr>\n",
       "      <th>10</th>\n",
       "      <td>2026</td>\n",
       "      <td>109.525237</td>\n",
       "    </tr>\n",
       "    <tr>\n",
       "      <th>11</th>\n",
       "      <td>2027</td>\n",
       "      <td>111.656271</td>\n",
       "    </tr>\n",
       "    <tr>\n",
       "      <th>12</th>\n",
       "      <td>2028</td>\n",
       "      <td>113.787305</td>\n",
       "    </tr>\n",
       "    <tr>\n",
       "      <th>13</th>\n",
       "      <td>2029</td>\n",
       "      <td>115.918340</td>\n",
       "    </tr>\n",
       "    <tr>\n",
       "      <th>14</th>\n",
       "      <td>2030</td>\n",
       "      <td>118.049374</td>\n",
       "    </tr>\n",
       "  </tbody>\n",
       "</table>\n",
       "</div>"
      ],
      "text/plain": [
       "    YEAR  LAKSHADWEEP\n",
       "0   2016    88.214894\n",
       "1   2017    90.345928\n",
       "2   2018    92.476963\n",
       "3   2019    94.607997\n",
       "4   2020    96.739031\n",
       "5   2021    98.870065\n",
       "6   2022   101.001100\n",
       "7   2023   103.132134\n",
       "8   2024   105.263168\n",
       "9   2025   107.394203\n",
       "10  2026   109.525237\n",
       "11  2027   111.656271\n",
       "12  2028   113.787305\n",
       "13  2029   115.918340\n",
       "14  2030   118.049374"
      ]
     },
     "execution_count": 74,
     "metadata": {},
     "output_type": "execute_result"
    }
   ],
   "source": [
    "data_test.to_csv(\"predicted/ld.csv\", index = False)\n",
    "data_test"
   ]
  },
  {
   "cell_type": "code",
   "execution_count": 75,
   "id": "52988f30",
   "metadata": {
    "scrolled": false
   },
   "outputs": [
    {
     "data": {
      "text/plain": [
       "[<matplotlib.lines.Line2D at 0x1eef002cb50>]"
      ]
     },
     "execution_count": 75,
     "metadata": {},
     "output_type": "execute_result"
    },
    {
     "data": {
      "image/png": "[encoded data removed]",
      "text/plain": [
       "<Figure size 432x288 with 1 Axes>"
      ]
     },
     "metadata": {
      "needs_background": "light"
     },
     "output_type": "display_data"
    }
   ],
   "source": [
    "%matplotlib inline\n",
    "plt.xlabel('Year')\n",
    "plt.ylabel('Number of cases in Lakh')\n",
    "plt.scatter(data_train[['YEAR']], data_train[['LAKSHADWEEP']], color = 'red', marker = 'x')\n",
    "plt.plot(data_train[['YEAR']], reg.predict(data_train[['YEAR']]), color = 'blue')"
   ]
  },
  {
   "cell_type": "code",
   "execution_count": 76,
   "id": "8d51ab58",
   "metadata": {},
   "outputs": [
    {
     "data": {
      "text/html": [
       "<div>\n",
       "<style scoped>\n",
       "    .dataframe tbody tr th:only-of-type {\n",
       "        vertical-align: middle;\n",
       "    }\n",
       "\n",
       "    .dataframe tbody tr th {\n",
       "        vertical-align: top;\n",
       "    }\n",
       "\n",
       "    .dataframe thead th {\n",
       "        text-align: right;\n",
       "    }\n",
       "</style>\n",
       "<table border=\"1\" class=\"dataframe\">\n",
       "  <thead>\n",
       "    <tr style=\"text-align: right;\">\n",
       "      <th></th>\n",
       "      <th>YEAR</th>\n",
       "      <th>LAKSHADWEEP</th>\n",
       "    </tr>\n",
       "  </thead>\n",
       "  <tbody>\n",
       "    <tr>\n",
       "      <th>0</th>\n",
       "      <td>2016</td>\n",
       "      <td>88.214894</td>\n",
       "    </tr>\n",
       "    <tr>\n",
       "      <th>1</th>\n",
       "      <td>2017</td>\n",
       "      <td>90.345928</td>\n",
       "    </tr>\n",
       "    <tr>\n",
       "      <th>2</th>\n",
       "      <td>2018</td>\n",
       "      <td>92.476963</td>\n",
       "    </tr>\n",
       "    <tr>\n",
       "      <th>3</th>\n",
       "      <td>2019</td>\n",
       "      <td>94.607997</td>\n",
       "    </tr>\n",
       "  </tbody>\n",
       "</table>\n",
       "</div>"
      ],
      "text/plain": [
       "   YEAR  LAKSHADWEEP\n",
       "0  2016    88.214894\n",
       "1  2017    90.345928\n",
       "2  2018    92.476963\n",
       "3  2019    94.607997"
      ]
     },
     "execution_count": 76,
     "metadata": {},
     "output_type": "execute_result"
    }
   ],
   "source": [
    "data_ld = pd.read_csv('predicted/ld.csv')\n",
    "data_ld.head(4)"
   ]
  },
  {
   "cell_type": "code",
   "execution_count": 77,
   "id": "b52f84de",
   "metadata": {},
   "outputs": [
    {
     "name": "stdout",
     "output_type": "stream",
     "text": [
      "MAE: 41.18448285585396\n",
      "MSE: 2474.197954294888\n",
      "RMSE: 49.74131033954461\n"
     ]
    }
   ],
   "source": [
    "mae_ld = metrics.mean_absolute_error(data_ld.head(4)[['LAKSHADWEEP']], data_actual[['LAKSHADWEEP']])\n",
    "mse_ld = metrics.mean_squared_error(data_ld.head(4)[['LAKSHADWEEP']], data_actual[['LAKSHADWEEP']])\n",
    "rmse_ld = np.sqrt(mse_ld)\n",
    "\n",
    "print(\"MAE:\", mae_ld)\n",
    "print(\"MSE:\", mse_ld)\n",
    "print(\"RMSE:\", rmse_ld)"
   ]
  },
  {
   "cell_type": "markdown",
   "id": "63129016",
   "metadata": {},
   "source": [
    "> ## WRITING THE ERROR"
   ]
  },
  {
   "cell_type": "code",
   "execution_count": 78,
   "id": "094fd287",
   "metadata": {},
   "outputs": [],
   "source": [
    "filename = \"error.csv\"\n",
    "head = ['UT', 'MAE', 'MSE', 'RMSE']\n",
    "rows = [['Andaman and Nicobar', mae_andaman, mse_andaman, rmse_andaman],\n",
    "        ['Puducherry', mae_pudu, mse_pudu, rmse_pudu],\n",
    "        ['Daman and Diu', mae_daman, mse_daman, rmse_daman],\n",
    "        ['Chandigarh', mae_chandi, mse_chandi, rmse_chandi],\n",
    "        ['Delhi', mae_delhi, mse_delhi, rmse_delhi],\n",
    "        ['Jammu and Kashmir', mae_jk, mse_jk, rmse_jk],\n",
    "        ['Lakshadweep', mae_ld, mse_ld, rmse_ld]]\n",
    "\n",
    "with open(filename, 'w') as csvfile:\n",
    "    csvwriter = csv.writer(csvfile) \n",
    "    csvwriter.writerow(head)\n",
    "    csvwriter.writerows(rows)\n",
    "    \n",
    "    \n",
    "    \n",
    "    #FINALLLLLLLLLLLLLLLLLLLLLLLLLLLLLLLLLLLLLLLLLLLLLLLLLLLLLLLLLL"
   ]
  },
  {
   "cell_type": "markdown",
   "id": "d238a77f",
   "metadata": {},
   "source": [
    "> ## READING ERROR"
   ]
  },
  {
   "cell_type": "code",
   "execution_count": 79,
   "id": "5ff0a4b1",
   "metadata": {},
   "outputs": [],
   "source": [
    "data_error = pd.read_csv('error.csv')"
   ]
  },
  {
   "cell_type": "code",
   "execution_count": 80,
   "id": "33b75d1f",
   "metadata": {},
   "outputs": [
    {
     "data": {
      "text/html": [
       "<div>\n",
       "<style scoped>\n",
       "    .dataframe tbody tr th:only-of-type {\n",
       "        vertical-align: middle;\n",
       "    }\n",
       "\n",
       "    .dataframe tbody tr th {\n",
       "        vertical-align: top;\n",
       "    }\n",
       "\n",
       "    .dataframe thead th {\n",
       "        text-align: right;\n",
       "    }\n",
       "</style>\n",
       "<table border=\"1\" class=\"dataframe\">\n",
       "  <thead>\n",
       "    <tr style=\"text-align: right;\">\n",
       "      <th></th>\n",
       "      <th>UT</th>\n",
       "      <th>MAE</th>\n",
       "      <th>MSE</th>\n",
       "      <th>RMSE</th>\n",
       "    </tr>\n",
       "  </thead>\n",
       "  <tbody>\n",
       "    <tr>\n",
       "      <th>0</th>\n",
       "      <td>Andaman and Nicobar</td>\n",
       "      <td>2446.490385</td>\n",
       "      <td>6.254315e+06</td>\n",
       "      <td>2500.862831</td>\n",
       "    </tr>\n",
       "    <tr>\n",
       "      <th>1</th>\n",
       "      <td>Puducherry</td>\n",
       "      <td>671.183623</td>\n",
       "      <td>5.642191e+05</td>\n",
       "      <td>751.145221</td>\n",
       "    </tr>\n",
       "    <tr>\n",
       "      <th>2</th>\n",
       "      <td>Daman and Diu</td>\n",
       "      <td>72.311414</td>\n",
       "      <td>6.551310e+03</td>\n",
       "      <td>80.940160</td>\n",
       "    </tr>\n",
       "    <tr>\n",
       "      <th>3</th>\n",
       "      <td>Chandigarh</td>\n",
       "      <td>701.892398</td>\n",
       "      <td>7.692853e+05</td>\n",
       "      <td>877.089107</td>\n",
       "    </tr>\n",
       "    <tr>\n",
       "      <th>4</th>\n",
       "      <td>Delhi</td>\n",
       "      <td>147282.605614</td>\n",
       "      <td>2.280429e+10</td>\n",
       "      <td>151010.888512</td>\n",
       "    </tr>\n",
       "    <tr>\n",
       "      <th>5</th>\n",
       "      <td>Jammu and Kashmir</td>\n",
       "      <td>1533.873139</td>\n",
       "      <td>3.167638e+06</td>\n",
       "      <td>1779.786025</td>\n",
       "    </tr>\n",
       "    <tr>\n",
       "      <th>6</th>\n",
       "      <td>Lakshadweep</td>\n",
       "      <td>41.184483</td>\n",
       "      <td>2.474198e+03</td>\n",
       "      <td>49.741310</td>\n",
       "    </tr>\n",
       "  </tbody>\n",
       "</table>\n",
       "</div>"
      ],
      "text/plain": [
       "                    UT            MAE           MSE           RMSE\n",
       "0  Andaman and Nicobar    2446.490385  6.254315e+06    2500.862831\n",
       "1           Puducherry     671.183623  5.642191e+05     751.145221\n",
       "2        Daman and Diu      72.311414  6.551310e+03      80.940160\n",
       "3           Chandigarh     701.892398  7.692853e+05     877.089107\n",
       "4                Delhi  147282.605614  2.280429e+10  151010.888512\n",
       "5    Jammu and Kashmir    1533.873139  3.167638e+06    1779.786025\n",
       "6          Lakshadweep      41.184483  2.474198e+03      49.741310"
      ]
     },
     "execution_count": 80,
     "metadata": {},
     "output_type": "execute_result"
    }
   ],
   "source": [
    "data_error"
   ]
  },
  {
   "cell_type": "code",
   "execution_count": null,
   "id": "52bd169d",
   "metadata": {},
   "outputs": [],
   "source": []
  }
 ],
 "metadata": {
  "kernelspec": {
   "display_name": "Python 3",
   "language": "python",
   "name": "python3"
  },
  "language_info": {
   "codemirror_mode": {
    "name": "ipython",
    "version": 3
   },
   "file_extension": ".py",
   "mimetype": "text/x-python",
   "name": "python",
   "nbconvert_exporter": "python",
   "pygments_lexer": "ipython3",
   "version": "3.8.8"
  }
 },
 "nbformat": 4,
 "nbformat_minor": 5
}
